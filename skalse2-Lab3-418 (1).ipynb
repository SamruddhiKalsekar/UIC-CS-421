{
 "cells": [
  {
   "cell_type": "markdown",
   "metadata": {},
   "source": [
    "# Lab 3: Scikit Learn and Regression"
   ]
  },
  {
   "cell_type": "markdown",
   "metadata": {},
   "source": [
    "Deadline Wednesday 11/10/21  11:59 pm "
   ]
  },
  {
   "cell_type": "markdown",
   "metadata": {},
   "source": [
    "**scikit-learn** is a popular machine learning package that contains a variety of models and tools. In this lab and lab 4 we will work with different models provided by **scikit-learn** package and build several models.\n",
    "\n",
    "All objects within scikitt-learn share a uniform common basic API consisting of 3 interfaces: an _estimator_ interface for building and fitting models, a _predictor_ interface for making predictions, and a _transformer_ interface for converting data.\n",
    "\n",
    ">The _estimator_  interface defines object mechanism and a fit method for learning a model from training data. All supervised and unsupervised learning algorithms are offered as objects implementing this interface. Other machine learning tasks such as _feature extraction_, _feature selection_, and _dimensionality reduction_ are provided as _estimators_. \n",
    "\n",
    "For more information, check the scikit-learn API paper: [https://arxiv.org/pdf/1309.0238v1.pdf]\n",
    "\n",
    "The general form of using models in scikit-learn:\n"
   ]
  },
  {
   "cell_type": "markdown",
   "metadata": {},
   "source": [
    "```\n",
    "clf = someModel( )\n",
    "clf.fit(x_train , y_tain)\n",
    "```"
   ]
  },
  {
   "cell_type": "markdown",
   "metadata": {},
   "source": [
    "For Example: \n",
    "\n",
    "```\n",
    "clf = LinearSVC( )\n",
    "clf.fit(x_train , y_tain)\n",
    "```"
   ]
  },
  {
   "cell_type": "markdown",
   "metadata": {},
   "source": [
    ">The _predictor_ adds a predict method that takes an array x_test and produces predictions for x_test, based on the learned parameters of the _estimator_. In supervised learning, this method typically return predicted labels or values computed by the model. Some unsupervised learning estimators may also implement the predict interface, such as __k-means__, where the predicted values are the cluster labels.\n",
    "\n",
    "```\n",
    "clf.predict(x_test)\n",
    "```"
   ]
  },
  {
   "cell_type": "markdown",
   "metadata": {},
   "source": [
    ">_transform_ method is used to modify or filter data before feeding it to a learning algorithm. It takes some new data as input and outputs a transformed version of that data. Preprocessing, feature selection, feature extraction and dimensionality reduction algorithms are all provided as _transformers_ within the library. \n",
    "\n",
    "This is usually done with __fit_transform__ method. For example: "
   ]
  },
  {
   "cell_type": "markdown",
   "metadata": {},
   "source": [
    "```\n",
    "PCA = RandomizedPCA (n_components = 2) \n",
    "x_train = PCA.fit_transform(x_train)\n",
    "x_test = PCA.fit_transform(x_test)\n",
    "\n",
    "```"
   ]
  },
  {
   "cell_type": "markdown",
   "metadata": {},
   "source": [
    "In the example above, we first __fit__ the training set to find the PC components, then they are transformed. "
   ]
  },
  {
   "cell_type": "markdown",
   "metadata": {},
   "source": [
    "We can summarize the _estimator_ as follows:\n",
    "\n",
    "* In _all estimators_\n",
    "    - `model.fit()` : fit training data. In supervised learning, fit will take two parameters: the data x and labels y. In unsupervised learning, fit will take a single parameter: the data x\n",
    "\n",
    "* In _supervised estimators_\n",
    "    - `model.predict()` : predict the label of new test data for the given model. Predict takes one parameter: the new test data and returns the learned label for each item in the test data \n",
    "    - `model.score()` : Returns the score method for classification or regression methods.\n",
    "\n",
    "* In _unsupervised estimators_\n",
    "\n",
    "    - `model.transform()`: Tranform new data into new basis. Transform takes one parameter: new data and returns a new representation of that data based on the model\n",
    "  \n",
    "    "
   ]
  },
  {
   "cell_type": "markdown",
   "metadata": {},
   "source": []
  },
  {
   "cell_type": "markdown",
   "metadata": {},
   "source": []
  },
  {
   "cell_type": "markdown",
   "metadata": {},
   "source": [
    "\n",
    "### Linear Regression"
   ]
  },
  {
   "cell_type": "markdown",
   "metadata": {},
   "source": [
    "Let's start with a simple linear regression. First we will see an example of a simple linear regression. A simple straight line that fits the data. The formula representing the model is $$y = \\beta_1 x +  \\beta_0$$"
   ]
  },
  {
   "cell_type": "code",
   "execution_count": 1,
   "metadata": {},
   "outputs": [],
   "source": [
    "%matplotlib inline\n",
    "import matplotlib.pyplot as plt\n",
    "import seaborn as sns; sns.set()\n",
    "import numpy as np"
   ]
  },
  {
   "cell_type": "markdown",
   "metadata": {},
   "source": [
    "Let's start by using the following simple data for showing how linear regression works in scikit-learn. Then it will be your turn to build a regression model on a dataset"
   ]
  },
  {
   "cell_type": "code",
   "execution_count": 2,
   "metadata": {},
   "outputs": [
    {
     "data": {
      "text/plain": [
       "<matplotlib.collections.PathCollection at 0x7fea82c9f520>"
      ]
     },
     "execution_count": 2,
     "metadata": {},
     "output_type": "execute_result"
    },
    {
     "data": {
      "image/png": "[encoded data removed]",
      "text/plain": [
       "<Figure size 432x288 with 1 Axes>"
      ]
     },
     "metadata": {},
     "output_type": "display_data"
    }
   ],
   "source": [
    "rng = np.random.RandomState(50)\n",
    "\n",
    "x = 10 * rng.rand(80)\n",
    "y = 2 * x - 1 + rng.randn(80)\n",
    "\n",
    "plt.scatter(x,y)"
   ]
  },
  {
   "cell_type": "markdown",
   "metadata": {},
   "source": [
    "After processing your data, the first step is to choose a model. For the dataset above, we are going to pick \"Linear Regression\" model. Simply import your model:"
   ]
  },
  {
   "cell_type": "code",
   "execution_count": 3,
   "metadata": {},
   "outputs": [],
   "source": [
    "from sklearn.linear_model import LinearRegression"
   ]
  },
  {
   "cell_type": "markdown",
   "metadata": {},
   "source": [
    "Next, pick the model hyperparameters"
   ]
  },
  {
   "cell_type": "code",
   "execution_count": 4,
   "metadata": {},
   "outputs": [
    {
     "data": {
      "image/png": "[encoded data removed]",
      "text/plain": [
       "<Figure size 432x288 with 1 Axes>"
      ]
     },
     "metadata": {},
     "output_type": "display_data"
    }
   ],
   "source": [
    "\n",
    "model = LinearRegression(fit_intercept=True)\n",
    "\n",
    "model.fit(x[:, np.newaxis], y)\n",
    "\n",
    "xfit = np.linspace(0, 10, 1000)\n",
    "yfit = model.predict(xfit[:, np.newaxis])\n",
    "\n",
    "plt.scatter(x, y)\n",
    "plt.plot(xfit, yfit);"
   ]
  },
  {
   "cell_type": "markdown",
   "metadata": {},
   "source": [
    "We can check the model settings: "
   ]
  },
  {
   "cell_type": "code",
   "execution_count": 5,
   "metadata": {},
   "outputs": [
    {
     "name": "stdout",
     "output_type": "stream",
     "text": [
      "1.9445358872143081\n",
      "-0.8492545699739544\n"
     ]
    }
   ],
   "source": [
    "print(model.coef_[0])\n",
    "print(model.intercept_)"
   ]
  },
  {
   "cell_type": "markdown",
   "metadata": {},
   "source": [
    "### Linear regression on scikit-learn datasets\n",
    "\n",
    "You can use datasets provided by scikit-learn as well. In the example below, we will apply linear regression to the **diabetes** dataset.\n",
    "\n",
    "In the diabetes datasets, ten baseline variables; age, sex, body mass index, average blood pressure, and six blood serum measurements were obtained for each of n = 442 diabetes patients, as well as the response of interest, a quantitative measure of disease progression one year after baseline."
   ]
  },
  {
   "cell_type": "code",
   "execution_count": 6,
   "metadata": {},
   "outputs": [
    {
     "name": "stdout",
     "output_type": "stream",
     "text": [
      "Coefficients: \n",
      " [953.44864762]\n",
      "Mean squared error: 3786.39\n",
      "R-squared: 0.31\n"
     ]
    },
    {
     "data": {
      "image/png": "[encoded data removed]",
      "text/plain": [
       "<Figure size 432x288 with 1 Axes>"
      ]
     },
     "metadata": {},
     "output_type": "display_data"
    }
   ],
   "source": [
    "# Importing diabetes dataset\n",
    "from sklearn.datasets import load_diabetes\n",
    "\n",
    "from sklearn.model_selection import train_test_split\n",
    "from sklearn.metrics import mean_squared_error, r2_score\n",
    "\n",
    "\n",
    "# Load the diabetes dataset\n",
    "diabetes = load_diabetes()\n",
    "\n",
    "# Use only one feature -- the following code creates a 1-dimensional \n",
    "# array containing just the second feature\n",
    "diabetes_X = diabetes.data[:, np.newaxis]\n",
    "diabetes_X_data = diabetes_X[:,:,2]\n",
    "\n",
    "# Split the data into training/testing sets\n",
    "diabetes_X_train,diabetes_X_test , diabetes_y_train, diabetes_y_test = train_test_split(\n",
    "                                     diabetes_X_data, diabetes.target, test_size = 0.15 )\n",
    "\n",
    "\n",
    "# Create linear regression object\n",
    "m1 = LinearRegression()\n",
    "\n",
    "\n",
    "# Train the model with training data \n",
    "m1.fit(diabetes_X_train, diabetes_y_train)\n",
    "\n",
    "# Make predictions on test data \n",
    "diabetes_y_pred = m1.predict(diabetes_X_test)\n",
    "\n",
    "#print the coefficient \n",
    "print('Coefficients: \\n', m1.coef_)\n",
    "\n",
    "#print the mean squared error\n",
    "print('Mean squared error: %.2f'% mean_squared_error(diabetes_y_test, diabetes_y_pred))\n",
    "\n",
    "\n",
    "# print the r-squared\n",
    "print('R-squared: %.2f' % r2_score(diabetes_y_test, diabetes_y_pred))\n",
    "\n",
    "\n",
    "# Plot \n",
    "plt.scatter(diabetes_X_test, diabetes_y_test,  color='red')\n",
    "plt.plot(diabetes_X_test, diabetes_y_pred, color='blue', linewidth=2)\n",
    "\n",
    "plt.xticks(())\n",
    "plt.yticks(())\n",
    "\n",
    "plt.show()\n"
   ]
  },
  {
   "cell_type": "markdown",
   "metadata": {},
   "source": [
    "As you can see, the prediction is not very good. Maybe we can try something different!"
   ]
  },
  {
   "cell_type": "markdown",
   "metadata": {},
   "source": [
    "#### Exercise 3.1 ( 15 pts)\n",
    "\n",
    "Run the linear regression on diabetes data with **all the features** in the dataset. \n",
    "Calculate the mean squared error and compare the two models. Did using all available features improve the performance ?"
   ]
  },
  {
   "cell_type": "code",
   "execution_count": 7,
   "metadata": {},
   "outputs": [
    {
     "name": "stdout",
     "output_type": "stream",
     "text": [
      "Coefficients: \n",
      " [   8.69400147 -180.31335454  512.38353811  329.18340697 -857.40469042\n",
      "  506.13591749  126.14909534  196.90091741  748.80144805   72.37633905]\n",
      "Mean squared error: 2817.04\n",
      "R-squared: 0.50\n",
      "(67,)\n",
      "(375,)\n",
      "(375, 10)\n",
      "(67, 10)\n"
     ]
    }
   ],
   "source": [
    "#Your code goes here\n",
    "\n",
    "# Load the diabetes dataset\n",
    "diabetes = load_diabetes()\n",
    "\n",
    "\n",
    "diabetes.feature_names\n",
    "\n",
    "diabetes_X = diabetes.data[:]\n",
    "diabetes_X_data = diabetes_X[:]\n",
    "\n",
    "# Split the data into training/testing sets\n",
    "diabetes_X_train,diabetes_X_test , diabetes_y_train, diabetes_y_test = train_test_split(\n",
    "                                     diabetes_X_data, diabetes.target, test_size = 0.15 )\n",
    "\n",
    "\n",
    "# Create linear regression object\n",
    "m2 = LinearRegression()\n",
    "\n",
    "\n",
    "# Train the model with training data \n",
    "m2.fit(diabetes_X_train, diabetes_y_train)\n",
    "\n",
    "# Make predictions on test data \n",
    "diabetes_y_pred = m2.predict(diabetes_X_test)\n",
    "\n",
    "#print the coefficient \n",
    "print('Coefficients: \\n', m2.coef_)\n",
    "\n",
    "#print the mean squared error\n",
    "print('Mean squared error: %.2f'% mean_squared_error(diabetes_y_test, diabetes_y_pred))\n",
    "\n",
    "\n",
    "# print the r-squared\n",
    "print('R-squared: %.2f' % r2_score(diabetes_y_test, diabetes_y_pred))\n",
    "\n",
    "print(diabetes_y_test.shape)\n",
    "print(diabetes_y_train.shape)\n",
    "print(diabetes_X_train.shape)\n",
    "print(diabetes_X_test.shape)"
   ]
  },
  {
   "cell_type": "markdown",
   "metadata": {},
   "source": [
    "## The mean squared error decreased when all the features were taken into consideration, whereas the value of R square increases. Therefore the model fits the data better, using all available features improve the performance ."
   ]
  },
  {
   "cell_type": "markdown",
   "metadata": {},
   "source": [
    "Feature selection allows your estimator to perform a better job by decreasing the model complexity and overfitting.\n",
    "scikit-learn provides several feature selection methods such as `SelectKBest` and `RFE`. Here is an example of using `RFE` or [Recursive feature elimination](https://scikit-learn.org/stable/modules/generated/sklearn.feature_selection.RFE.html#sklearn.feature_selection.RFE) on diabetes dataset:"
   ]
  },
  {
   "cell_type": "code",
   "execution_count": 8,
   "metadata": {},
   "outputs": [
    {
     "name": "stdout",
     "output_type": "stream",
     "text": [
      "[9 5 1 4 2 3 7 6 1 8]\n"
     ]
    }
   ],
   "source": [
    "from sklearn.feature_selection import RFE\n",
    "\n",
    "# Note that this piece of code works with training data and model from Exercise 3.1\n",
    "# Either choose the same name for your variables or change the variable names below\n",
    "\n",
    "rfe = RFE(estimator = m2 , n_features_to_select = 2 , step = 1)\n",
    "rfe.fit(diabetes_X_train, diabetes_y_train)\n",
    "\n",
    "print(rfe.ranking_)"
   ]
  },
  {
   "cell_type": "markdown",
   "metadata": {},
   "source": [
    "#### Exercise 3.2 (20 pts)\n",
    "\n",
    "Calculate and print the mean squared error using two features. Which model performs better? (the more complex one with all features, or the simpler model using fewer features)\n",
    "(Note that `RFE` has a predict function you can use)\n",
    "\n"
   ]
  },
  {
   "cell_type": "code",
   "execution_count": 9,
   "metadata": {},
   "outputs": [
    {
     "name": "stdout",
     "output_type": "stream",
     "text": [
      "Mean squared error: 3076.35\n",
      "R-squared: 0.46\n"
     ]
    }
   ],
   "source": [
    "# Your code goes here \n",
    "\n",
    "diabetes_y_pred=rfe.predict(diabetes_X_test)\n",
    "\n",
    "#print the mean squared error\n",
    "print('Mean squared error: %.2f'% mean_squared_error(diabetes_y_test, diabetes_y_pred))\n",
    "\n",
    "\n",
    "# print the r-squared\n",
    "print('R-squared: %.2f' % r2_score(diabetes_y_test, diabetes_y_pred))\n"
   ]
  },
  {
   "cell_type": "markdown",
   "metadata": {},
   "source": [
    "## The mean squared error increases and r-square decreases. The more complex model with all features performs better than the simpler model using fewer features."
   ]
  },
  {
   "cell_type": "markdown",
   "metadata": {},
   "source": [
    "### Linear regression on the Boston house price dataset\n",
    "\n",
    "Now it's your turn to perform a linear regression on the Boston housing dataset."
   ]
  },
  {
   "cell_type": "markdown",
   "metadata": {},
   "source": [
    "#### Exercise 3.3 ( 20 pts)\n",
    "\n",
    "Train a set of linear regression models to predict the house prices for boston house dataset. You should use all the available features and train multiple linear regression models for:\n",
    "\n",
    "* a) 30% training, 70% testing \n",
    "* b) 50% training, 50% testing\n",
    "* c) 70% training, 30% testing\n",
    "* d) 80% training, 20% testing\n",
    "\n",
    "Plot the mean squared error for all models. "
   ]
  },
  {
   "cell_type": "markdown",
   "metadata": {},
   "source": [
    "## a) 30% training, 70% testing"
   ]
  },
  {
   "cell_type": "code",
   "execution_count": 11,
   "metadata": {},
   "outputs": [
    {
     "name": "stdout",
     "output_type": "stream",
     "text": [
      "Coefficients: \n",
      " [-1.32482596e-01  5.09490696e-02 -6.33365386e-02  4.71136478e+00\n",
      " -1.72526213e+01  2.27887422e+00  4.95765149e-02 -1.42247007e+00\n",
      "  3.85813932e-01 -9.26564558e-03 -1.15242745e+00  1.16090719e-02\n",
      " -7.35342125e-01]\n",
      "Mean squared error: 24.87\n",
      "R-squared: 0.71\n"
     ]
    }
   ],
   "source": [
    "#Your code goes here\n",
    "\n",
    "from sklearn.datasets import load_boston\n",
    "boston = load_boston()\n",
    "\n",
    "\n",
    "boston_X = boston.data[:]\n",
    "boston_X_data = boston_X[:]\n",
    "\n",
    "boston_X_train,boston_X_test ,boston_y_train, boston_y_test = \\\n",
    "train_test_split(boston_X_data, boston.target, test_size = 0.70 )\n",
    "boston_train=[boston_X_train.size]\n",
    "\n",
    "m3 = LinearRegression()\n",
    "m3.fit(boston_X_train, boston_y_train)\n",
    "boston_y_pred = m3.predict(boston_X_test)\n",
    "print('Coefficients: \\n', m3.coef_)\n",
    "mse1 = mean_squared_error(boston_y_test, boston_y_pred)\n",
    "print('Mean squared error: %.2f'% mse1)\n",
    "r2a = r2_score(boston_y_test, boston_y_pred)\n",
    "print('R-squared: %.2f' % r2a)"
   ]
  },
  {
   "cell_type": "markdown",
   "metadata": {},
   "source": [
    "## b) 50% training, 50% testing"
   ]
  },
  {
   "cell_type": "code",
   "execution_count": 12,
   "metadata": {},
   "outputs": [
    {
     "name": "stdout",
     "output_type": "stream",
     "text": [
      "Coefficients: \n",
      " [-1.29545413e-01  5.04600846e-02  2.04975361e-02  3.13890171e+00\n",
      " -1.32253011e+01  4.26217495e+00 -8.69851881e-03 -1.59460837e+00\n",
      "  3.61111542e-01 -1.41338235e-02 -9.54078233e-01  1.25420465e-02\n",
      " -4.98011643e-01]\n",
      "Mean squared error: 22.16\n",
      "R-squared: 0.71\n"
     ]
    }
   ],
   "source": [
    "\n",
    "from sklearn.datasets import load_boston\n",
    "boston = load_boston()\n",
    "\n",
    "\n",
    "boston_X = boston.data[:]\n",
    "boston_X_data = boston_X[:]\n",
    "\n",
    "boston_X_train,boston_X_test ,boston_y_train, boston_y_test = \\\n",
    "train_test_split(boston_X_data, boston.target, test_size = 0.50 )\n",
    "boston_train.append(boston_X_train.size)\n",
    "\n",
    "m3 = LinearRegression()\n",
    "m3.fit(boston_X_train, boston_y_train)\n",
    "boston_y_pred = m3.predict(boston_X_test)\n",
    "print('Coefficients: \\n', m3.coef_)\n",
    "mse2 = mean_squared_error(boston_y_test, boston_y_pred)\n",
    "print('Mean squared error: %.2f'% mse2)\n",
    "r2b = r2_score(boston_y_test, boston_y_pred)\n",
    "print('R-squared: %.2f' % r2b)"
   ]
  },
  {
   "cell_type": "markdown",
   "metadata": {},
   "source": [
    "## c) 70% training, 30% testing"
   ]
  },
  {
   "cell_type": "code",
   "execution_count": 13,
   "metadata": {},
   "outputs": [
    {
     "name": "stdout",
     "output_type": "stream",
     "text": [
      "Coefficients: \n",
      " [-1.14781649e-01  5.74005777e-02  4.15318784e-02  2.61768091e+00\n",
      " -2.32303388e+01  3.17219554e+00  1.36826175e-02 -1.62202460e+00\n",
      "  3.10371201e-01 -1.07340457e-02 -8.91338998e-01  9.55964339e-03\n",
      " -6.20621483e-01]\n",
      "Mean squared error: 18.11\n",
      "R-squared: 0.76\n"
     ]
    }
   ],
   "source": [
    "\n",
    "from sklearn.datasets import load_boston\n",
    "boston = load_boston()\n",
    "\n",
    "\n",
    "boston_X = boston.data[:]\n",
    "boston_X_data = boston_X[:]\n",
    "\n",
    "boston_X_train,boston_X_test ,boston_y_train, boston_y_test = \\\n",
    "train_test_split(boston_X_data, boston.target, test_size = 0.30 )\n",
    "\n",
    "boston_train.append(boston_X_train.size)\n",
    "\n",
    "m3 = LinearRegression()\n",
    "m3.fit(boston_X_train, boston_y_train)\n",
    "boston_y_pred = m3.predict(boston_X_test)\n",
    "print('Coefficients: \\n', m3.coef_)\n",
    "mse3 = mean_squared_error(boston_y_test, boston_y_pred)\n",
    "print('Mean squared error: %.2f'% mse3)\n",
    "r2c = r2_score(boston_y_test, boston_y_pred)\n",
    "print('R-squared: %.2f' % r2c)"
   ]
  },
  {
   "cell_type": "markdown",
   "metadata": {},
   "source": [
    "## d) 80% training, 20% testing"
   ]
  },
  {
   "cell_type": "code",
   "execution_count": 14,
   "metadata": {},
   "outputs": [
    {
     "name": "stdout",
     "output_type": "stream",
     "text": [
      "Coefficients: \n",
      " [-1.29355588e-01  4.25251410e-02 -1.81478648e-02  2.80505065e+00\n",
      " -1.57847696e+01  3.57590016e+00  4.66282637e-03 -1.36638118e+00\n",
      "  3.62659222e-01 -1.31361737e-02 -9.79222086e-01  1.04072821e-02\n",
      " -5.54277191e-01]\n",
      "Mean squared error: 17.75\n",
      "R-squared: 0.78\n"
     ]
    }
   ],
   "source": [
    "\n",
    "from sklearn.datasets import load_boston\n",
    "boston = load_boston()\n",
    "\n",
    "\n",
    "boston_X = boston.data[:]\n",
    "boston_X_data = boston_X[:]\n",
    "\n",
    "boston_X_train,boston_X_test ,boston_y_train, boston_y_test = train_test_split(\n",
    "                                     boston_X_data, boston.target, test_size = 0.20 )\n",
    "\n",
    "boston_train.append(boston_X_train.size)\n",
    "\n",
    "m4 = LinearRegression()\n",
    "m4.fit(boston_X_train, boston_y_train)\n",
    "boston_y_pred = m4.predict(boston_X_test)\n",
    "print('Coefficients: \\n', m4.coef_)\n",
    "mse4 = mean_squared_error(boston_y_test, boston_y_pred)\n",
    "print('Mean squared error: %.2f'% mse4)\n",
    "r2d = r2_score(boston_y_test, boston_y_pred)\n",
    "print('R-squared: %.2f' % r2d)"
   ]
  },
  {
   "cell_type": "code",
   "execution_count": 15,
   "metadata": {},
   "outputs": [
    {
     "data": {
      "text/plain": [
       "[1963, 3289, 4602, 5252]"
      ]
     },
     "execution_count": 15,
     "metadata": {},
     "output_type": "execute_result"
    }
   ],
   "source": [
    "boston_train"
   ]
  },
  {
   "cell_type": "code",
   "execution_count": 16,
   "metadata": {
    "scrolled": true
   },
   "outputs": [
    {
     "name": "stdout",
     "output_type": "stream",
     "text": [
      "5252\n"
     ]
    },
    {
     "data": {
      "image/png": "[encoded data removed]",
      "text/plain": [
       "<Figure size 432x288 with 1 Axes>"
      ]
     },
     "metadata": {},
     "output_type": "display_data"
    }
   ],
   "source": [
    "# # plotting mse for all models\n",
    "import pandas as pd\n",
    "mse = pd.Series([mse1, mse2, mse3, mse4])\n",
    "# Plot \n",
    "print(boston_X_train.size)\n",
    "#mse.plot(x = boston_X_train.size)\n",
    "plt.plot(boston_train, mse,  color='blue')\n",
    "plt.scatter(boston_train, mse,  color='red')\n",
    "\n",
    "\n",
    "# plt.plot(boston_X_train, , color='blue', linewidth=2)\n",
    "\n",
    "# plt.xticks(())\n",
    "# plt.yticks(())\n",
    "\n",
    "# plt.scatter(test_split_list, mse_list, color = 'red')\n",
    "# plt.plot(test_split_list, mse_list, color = 'blue')\n",
    "\n",
    "plt.xlabel('Size of training set')\n",
    "plt.ylabel('Mean Squared Error')\n",
    "\n",
    "plt.show()\n",
    "\n",
    "# boston_X_train.size"
   ]
  },
  {
   "cell_type": "markdown",
   "metadata": {},
   "source": [
    "## As size of training data increases, the mean squared error decreases which shows our model performance improves as we increase training data."
   ]
  },
  {
   "cell_type": "markdown",
   "metadata": {},
   "source": [
    " #### Exercise 3.4  ( 45 pts)\n",
    " \n",
    "Use `RFE` to find the best set of features for prediction. What are they? \n",
    "(Note that in order to find the best set of features for prediction, you need to consider all possible combinations, from 1 to d features, calculate the MSE for each one and pick the set of features that give you the min MSE)\n",
    "\n",
    "\n",
    "Use the same train-test splits from 3.3, to train new models with the best set of features for prediction. Plot the mean squared error for each linear regression models and given train-test split."
   ]
  },
  {
   "cell_type": "code",
   "execution_count": 17,
   "metadata": {},
   "outputs": [
    {
     "name": "stdout",
     "output_type": "stream",
     "text": [
      "[ 7  9 11  3  1  2 13  5  8 10  4 12  6]\n",
      "Mean squared error: 76.73\n",
      "[ 6  8 10  2  1  1 12  4  7  9  3 11  5]\n",
      "Mean squared error: 35.74\n",
      "[ 5  7  9  1  1  1 11  3  6  8  2 10  4]\n",
      "Mean squared error: 34.16\n",
      "[ 4  6  8  1  1  1 10  2  5  7  1  9  3]\n",
      "Mean squared error: 29.96\n",
      "[3 5 7 1 1 1 9 1 4 6 1 8 2]\n",
      "Mean squared error: 30.00\n",
      "[2 4 6 1 1 1 8 1 3 5 1 7 1]\n",
      "Mean squared error: 27.18\n",
      "[1 3 5 1 1 1 7 1 2 4 1 6 1]\n",
      "Mean squared error: 27.61\n",
      "[1 2 4 1 1 1 6 1 1 3 1 5 1]\n",
      "Mean squared error: 26.87\n",
      "[1 1 3 1 1 1 5 1 1 2 1 4 1]\n",
      "Mean squared error: 25.90\n",
      "[1 1 2 1 1 1 4 1 1 1 1 3 1]\n",
      "Mean squared error: 25.69\n",
      "[1 1 1 1 1 1 3 1 1 1 1 2 1]\n",
      "Mean squared error: 25.68\n",
      "[1 1 1 1 1 1 2 1 1 1 1 1 1]\n",
      "Mean squared error: 26.76\n",
      "[1 1 1 1 1 1 1 1 1 1 1 1 1]\n",
      "Mean squared error: 26.77\n"
     ]
    }
   ],
   "source": [
    "boston_x = boston.data[:]\n",
    "boston_y = boston.target\n",
    "\n",
    "\n",
    "bxt , bxtest, byt, bytest = train_test_split(boston_x, boston_y, \\\n",
    "                                             test_size = 0.20 )\n",
    "mm = LinearRegression()\n",
    "mm.fit(bxt, byt)\n",
    "\n",
    "mse_item = []\n",
    "for i in range(1, 14):\n",
    "    rfe = RFE(estimator = mm , n_features_to_select = i , step = 1)\n",
    "    rfe.fit(bxt, byt)\n",
    "    print(rfe.ranking_)\n",
    "    boston_y_p = rfe.predict(bxtest)\n",
    "    msee = mean_squared_error(bytest, boston_y_p)\n",
    "    mse_item.append(msee)\n",
    "    print('Mean squared error: %.2f'% msee)"
   ]
  },
  {
   "cell_type": "code",
   "execution_count": 18,
   "metadata": {},
   "outputs": [],
   "source": [
    "min_mse = min(mse_item)"
   ]
  },
  {
   "cell_type": "code",
   "execution_count": 19,
   "metadata": {},
   "outputs": [],
   "source": [
    "index = mse_item.index(min_mse)\n",
    "index = index+1\n"
   ]
  },
  {
   "cell_type": "code",
   "execution_count": null,
   "metadata": {},
   "outputs": [],
   "source": [
    "# min_mse\n",
    "# index\n",
    "# rfe_fit = RFE(estimator = mm , n_features_to_select = index , step = 1)\n",
    "# rfe_fit.fit(bxt, byt)\n",
    "# print(rfe_fit.support_)\n",
    "# print('Optimal number of features: {}'.format(rfe_fit.n_features_))\n"
   ]
  },
  {
   "cell_type": "code",
   "execution_count": 20,
   "metadata": {},
   "outputs": [
    {
     "name": "stdout",
     "output_type": "stream",
     "text": [
      "Mean squared error: 36.14\n",
      "R-squared: 0.54\n",
      "Mean squared error: 29.75\n",
      "R-squared: 0.67\n",
      "Mean squared error: 29.46\n",
      "R-squared: 0.64\n",
      "Mean squared error: 28.38\n",
      "R-squared: 0.71\n"
     ]
    }
   ],
   "source": [
    "from sklearn.datasets import load_boston\n",
    "from sklearn.model_selection import train_test_split\n",
    "\n",
    "boston = load_boston()\n",
    "test_split=[0.7,0.5,0.3,0.2]\n",
    "boston_train_r=[]\n",
    "mse_r_all=[]\n",
    "for i in test_split:\n",
    "    boston_X_train,boston_X_test , boston_y_train, boston_y_test =\\\n",
    "    train_test_split(boston_X_data, boston.target, test_size = i )\n",
    "\n",
    "    boston_train_r.append(boston_X_train.size)\n",
    "    m_rfe = LinearRegression()\n",
    "    m_rfe.fit(boston_X_train, boston_y_train)\n",
    "    boston_y_pred = m_rfe.predict(boston_X_test)\n",
    "    rfe = RFE(estimator = m_rfe , n_features_to_select = index , step = 1)\n",
    "    rfe.fit(boston_X_train, boston_y_train)\n",
    "    boston_y_pred=rfe.predict(boston_X_test)\n",
    "    mse_r_all.append(mean_squared_error(boston_y_test, boston_y_pred))\n",
    "    print('Mean squared error: %.2f'% mean_squared_error(boston_y_test, boston_y_pred))\n",
    "    print('R-squared: %.2f' % r2_score(boston_y_test, boston_y_pred))\n"
   ]
  },
  {
   "cell_type": "code",
   "execution_count": 21,
   "metadata": {},
   "outputs": [
    {
     "data": {
      "image/png": "[encoded data removed]",
      "text/plain": [
       "<Figure size 432x288 with 1 Axes>"
      ]
     },
     "metadata": {},
     "output_type": "display_data"
    }
   ],
   "source": [
    "plt.scatter(boston_train_r, mse_r_all, color = 'red')\n",
    "plt.plot(boston_train_r, mse_r_all, color = 'blue')\n",
    "plt.xlabel(\"Size of training data\")\n",
    "plt.ylabel(\"Mean Squared Error\")\n",
    "plt.show()"
   ]
  },
  {
   "cell_type": "code",
   "execution_count": 22,
   "metadata": {},
   "outputs": [
    {
     "name": "stdout",
     "output_type": "stream",
     "text": [
      "(404, 13)\n",
      "(404,)\n",
      "(102, 13)\n",
      "(102,)\n"
     ]
    },
    {
     "data": {
      "text/plain": [
       "array(['CRIM', 'ZN', 'INDUS', 'CHAS', 'NOX', 'RM', 'AGE', 'DIS', 'RAD',\n",
       "       'TAX', 'PTRATIO', 'B', 'LSTAT'], dtype='<U7')"
      ]
     },
     "execution_count": 22,
     "metadata": {},
     "output_type": "execute_result"
    }
   ],
   "source": [
    "print(bxt.shape)\n",
    "print(byt.shape)\n",
    "print(bxtest.shape)\n",
    "print(bytest.shape)\n",
    "boston.feature_names\n",
    "\n"
   ]
  }
 ],
 "metadata": {
  "kernelspec": {
   "display_name": "Python 3",
   "language": "python",
   "name": "python3"
  },
  "language_info": {
   "codemirror_mode": {
    "name": "ipython",
    "version": 3
   },
   "file_extension": ".py",
   "mimetype": "text/x-python",
   "name": "python",
   "nbconvert_exporter": "python",
   "pygments_lexer": "ipython3",
   "version": "3.8.8"
  }
 },
 "nbformat": 4,
 "nbformat_minor": 2
}
