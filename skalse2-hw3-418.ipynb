{
 "cells": [
  {
   "cell_type": "code",
   "execution_count": 41,
   "id": "720c0b69",
   "metadata": {},
   "outputs": [],
   "source": [
    "from sklearn.model_selection import train_test_split\n",
    "import pandas as pd\n",
    "import numpy as np\n",
    "from sklearn.preprocessing import LabelEncoder\n",
    "%matplotlib inline\n",
    "import matplotlib.pyplot as plt\n",
    "from matplotlib.colors import ListedColormap\n",
    "from scipy import stats\n",
    "from sklearn import metrics\n",
    "from sklearn.metrics import accuracy_score\n",
    "import seaborn as sns\n",
    "import math\n",
    "\n",
    "# from sklearn.model_selection import StratifiedKFold\n"
   ]
  },
  {
   "cell_type": "markdown",
   "id": "1c89880e",
   "metadata": {},
   "source": [
    "# Problem 01\n"
   ]
  },
  {
   "cell_type": "markdown",
   "id": "6b76134a",
   "metadata": {},
   "source": [
    "### Reading iris dataset"
   ]
  },
  {
   "cell_type": "code",
   "execution_count": 2,
   "id": "7669f645",
   "metadata": {
    "scrolled": false
   },
   "outputs": [
    {
     "data": {
      "text/html": [
       "<div>\n",
       "<style scoped>\n",
       "    .dataframe tbody tr th:only-of-type {\n",
       "        vertical-align: middle;\n",
       "    }\n",
       "\n",
       "    .dataframe tbody tr th {\n",
       "        vertical-align: top;\n",
       "    }\n",
       "\n",
       "    .dataframe thead th {\n",
       "        text-align: right;\n",
       "    }\n",
       "</style>\n",
       "<table border=\"1\" class=\"dataframe\">\n",
       "  <thead>\n",
       "    <tr style=\"text-align: right;\">\n",
       "      <th></th>\n",
       "      <th>sepal_length</th>\n",
       "      <th>sepal_width</th>\n",
       "      <th>petal_length</th>\n",
       "      <th>petal_width</th>\n",
       "      <th>Class_label</th>\n",
       "    </tr>\n",
       "  </thead>\n",
       "  <tbody>\n",
       "    <tr>\n",
       "      <th>0</th>\n",
       "      <td>4.9</td>\n",
       "      <td>3.0</td>\n",
       "      <td>1.4</td>\n",
       "      <td>0.2</td>\n",
       "      <td>Iris-setosa</td>\n",
       "    </tr>\n",
       "    <tr>\n",
       "      <th>1</th>\n",
       "      <td>4.7</td>\n",
       "      <td>3.2</td>\n",
       "      <td>1.3</td>\n",
       "      <td>0.2</td>\n",
       "      <td>Iris-setosa</td>\n",
       "    </tr>\n",
       "    <tr>\n",
       "      <th>2</th>\n",
       "      <td>4.6</td>\n",
       "      <td>3.1</td>\n",
       "      <td>1.5</td>\n",
       "      <td>0.2</td>\n",
       "      <td>Iris-setosa</td>\n",
       "    </tr>\n",
       "    <tr>\n",
       "      <th>3</th>\n",
       "      <td>5.0</td>\n",
       "      <td>3.6</td>\n",
       "      <td>1.4</td>\n",
       "      <td>0.2</td>\n",
       "      <td>Iris-setosa</td>\n",
       "    </tr>\n",
       "    <tr>\n",
       "      <th>4</th>\n",
       "      <td>5.4</td>\n",
       "      <td>3.9</td>\n",
       "      <td>1.7</td>\n",
       "      <td>0.4</td>\n",
       "      <td>Iris-setosa</td>\n",
       "    </tr>\n",
       "  </tbody>\n",
       "</table>\n",
       "</div>"
      ],
      "text/plain": [
       "   sepal_length  sepal_width  petal_length  petal_width  Class_label\n",
       "0           4.9          3.0           1.4          0.2  Iris-setosa\n",
       "1           4.7          3.2           1.3          0.2  Iris-setosa\n",
       "2           4.6          3.1           1.5          0.2  Iris-setosa\n",
       "3           5.0          3.6           1.4          0.2  Iris-setosa\n",
       "4           5.4          3.9           1.7          0.4  Iris-setosa"
      ]
     },
     "execution_count": 2,
     "metadata": {},
     "output_type": "execute_result"
    }
   ],
   "source": [
    "df1 = pd.read_csv(\"iris.csv\")\n",
    "df1.columns = ['sepal_length', 'sepal_width', 'petal_length' ,'petal_width','Class_label']\n",
    "df1.head()"
   ]
  },
  {
   "cell_type": "code",
   "execution_count": 3,
   "id": "a85022b0",
   "metadata": {},
   "outputs": [
    {
     "data": {
      "text/plain": [
       "array(['Iris-setosa', 'Iris-versicolor', 'Iris-virginica'], dtype=object)"
      ]
     },
     "execution_count": 3,
     "metadata": {},
     "output_type": "execute_result"
    }
   ],
   "source": [
    "df1['Class_label'].unique()"
   ]
  },
  {
   "cell_type": "markdown",
   "id": "990e38bf",
   "metadata": {},
   "source": [
    "### Using Label Encoder to encode Class_label into Label_type"
   ]
  },
  {
   "cell_type": "code",
   "execution_count": 4,
   "id": "d7f90be5",
   "metadata": {},
   "outputs": [
    {
     "data": {
      "text/html": [
       "<div>\n",
       "<style scoped>\n",
       "    .dataframe tbody tr th:only-of-type {\n",
       "        vertical-align: middle;\n",
       "    }\n",
       "\n",
       "    .dataframe tbody tr th {\n",
       "        vertical-align: top;\n",
       "    }\n",
       "\n",
       "    .dataframe thead th {\n",
       "        text-align: right;\n",
       "    }\n",
       "</style>\n",
       "<table border=\"1\" class=\"dataframe\">\n",
       "  <thead>\n",
       "    <tr style=\"text-align: right;\">\n",
       "      <th></th>\n",
       "      <th>sepal_length</th>\n",
       "      <th>sepal_width</th>\n",
       "      <th>petal_length</th>\n",
       "      <th>petal_width</th>\n",
       "      <th>Class_label</th>\n",
       "      <th>Label_type</th>\n",
       "    </tr>\n",
       "  </thead>\n",
       "  <tbody>\n",
       "    <tr>\n",
       "      <th>0</th>\n",
       "      <td>4.9</td>\n",
       "      <td>3.0</td>\n",
       "      <td>1.4</td>\n",
       "      <td>0.2</td>\n",
       "      <td>Iris-setosa</td>\n",
       "      <td>0</td>\n",
       "    </tr>\n",
       "    <tr>\n",
       "      <th>1</th>\n",
       "      <td>4.7</td>\n",
       "      <td>3.2</td>\n",
       "      <td>1.3</td>\n",
       "      <td>0.2</td>\n",
       "      <td>Iris-setosa</td>\n",
       "      <td>0</td>\n",
       "    </tr>\n",
       "    <tr>\n",
       "      <th>2</th>\n",
       "      <td>4.6</td>\n",
       "      <td>3.1</td>\n",
       "      <td>1.5</td>\n",
       "      <td>0.2</td>\n",
       "      <td>Iris-setosa</td>\n",
       "      <td>0</td>\n",
       "    </tr>\n",
       "    <tr>\n",
       "      <th>3</th>\n",
       "      <td>5.0</td>\n",
       "      <td>3.6</td>\n",
       "      <td>1.4</td>\n",
       "      <td>0.2</td>\n",
       "      <td>Iris-setosa</td>\n",
       "      <td>0</td>\n",
       "    </tr>\n",
       "    <tr>\n",
       "      <th>4</th>\n",
       "      <td>5.4</td>\n",
       "      <td>3.9</td>\n",
       "      <td>1.7</td>\n",
       "      <td>0.4</td>\n",
       "      <td>Iris-setosa</td>\n",
       "      <td>0</td>\n",
       "    </tr>\n",
       "  </tbody>\n",
       "</table>\n",
       "</div>"
      ],
      "text/plain": [
       "   sepal_length  sepal_width  petal_length  petal_width  Class_label  \\\n",
       "0           4.9          3.0           1.4          0.2  Iris-setosa   \n",
       "1           4.7          3.2           1.3          0.2  Iris-setosa   \n",
       "2           4.6          3.1           1.5          0.2  Iris-setosa   \n",
       "3           5.0          3.6           1.4          0.2  Iris-setosa   \n",
       "4           5.4          3.9           1.7          0.4  Iris-setosa   \n",
       "\n",
       "   Label_type  \n",
       "0           0  \n",
       "1           0  \n",
       "2           0  \n",
       "3           0  \n",
       "4           0  "
      ]
     },
     "execution_count": 4,
     "metadata": {},
     "output_type": "execute_result"
    }
   ],
   "source": [
    "labelencoder = LabelEncoder()\n",
    "df1['Label_type'] = labelencoder.fit_transform(df1['Class_label'])\n",
    "\n",
    "df1.head()"
   ]
  },
  {
   "cell_type": "code",
   "execution_count": 5,
   "id": "62de3340",
   "metadata": {},
   "outputs": [],
   "source": [
    "# del df['Class_label']"
   ]
  },
  {
   "cell_type": "code",
   "execution_count": 6,
   "id": "1b080730",
   "metadata": {},
   "outputs": [
    {
     "data": {
      "text/plain": [
       "1    50\n",
       "2    50\n",
       "0    49\n",
       "Name: Label_type, dtype: int64"
      ]
     },
     "execution_count": 6,
     "metadata": {},
     "output_type": "execute_result"
    }
   ],
   "source": [
    "df1['Label_type'].value_counts()"
   ]
  },
  {
   "cell_type": "markdown",
   "id": "0fd590fc",
   "metadata": {},
   "source": [
    "### (a) Compare all four features distribution in each iris class using boxplots.\n"
   ]
  },
  {
   "cell_type": "code",
   "execution_count": 7,
   "id": "51cac1db",
   "metadata": {},
   "outputs": [
    {
     "data": {
      "text/plain": [
       "Text(0.5, 1.0, 'Sepal length distribution based on class label')"
      ]
     },
     "execution_count": 7,
     "metadata": {},
     "output_type": "execute_result"
    },
    {
     "data": {
      "image/png": "[encoded data removed]",
      "text/plain": [
       "<Figure size 720x504 with 1 Axes>"
      ]
     },
     "metadata": {
      "needs_background": "light"
     },
     "output_type": "display_data"
    }
   ],
   "source": [
    "# data = df1[[\"sepal_length\", \"sepal_width\", \"petal_length\", \"petal_width\"]]\n",
    "\n",
    "df1.boxplot(column = ['sepal_length'], by ='Class_label',figsize = (10, 7))\n",
    "plt.title(\"Sepal length distribution based on class label\")\n",
    "# plt.figure(figsize = (10, 7))"
   ]
  },
  {
   "cell_type": "markdown",
   "id": "88f3b7c7",
   "metadata": {},
   "source": [
    "\n",
    "### The distribution of feature sepal length  increases from iris-setosa to iris-virginica.\n",
    "\n",
    "\n"
   ]
  },
  {
   "cell_type": "code",
   "execution_count": 8,
   "id": "31be11eb",
   "metadata": {},
   "outputs": [
    {
     "data": {
      "text/plain": [
       "Text(0.5, 1.0, 'Sepal width distribution based on class label')"
      ]
     },
     "execution_count": 8,
     "metadata": {},
     "output_type": "execute_result"
    },
    {
     "data": {
      "image/png": "[encoded data removed]",
      "text/plain": [
       "<Figure size 720x504 with 1 Axes>"
      ]
     },
     "metadata": {
      "needs_background": "light"
     },
     "output_type": "display_data"
    }
   ],
   "source": [
    "df1.boxplot(column = ['sepal_width'], by ='Class_label',figsize = (10, 7))\n",
    "plt.title(\"Sepal width distribution based on class label\")"
   ]
  },
  {
   "cell_type": "markdown",
   "id": "d8ecf4b2",
   "metadata": {},
   "source": [
    "\n",
    "### The distribution of feature sepal width decreases from iris-setosa to iris_versicolor and increments a bit from iris_versicolor to iris_virginica."
   ]
  },
  {
   "cell_type": "code",
   "execution_count": 9,
   "id": "a9738eb6",
   "metadata": {},
   "outputs": [
    {
     "data": {
      "text/plain": [
       "Text(0.5, 1.0, 'Petal length distribution based on class label')"
      ]
     },
     "execution_count": 9,
     "metadata": {},
     "output_type": "execute_result"
    },
    {
     "data": {
      "image/png": "[encoded data removed]",
      "text/plain": [
       "<Figure size 720x504 with 1 Axes>"
      ]
     },
     "metadata": {
      "needs_background": "light"
     },
     "output_type": "display_data"
    }
   ],
   "source": [
    "df1.boxplot(column = ['petal_length'], by ='Class_label',figsize = (10, 7))\n",
    "plt.title(\"Petal length distribution based on class label\")"
   ]
  },
  {
   "cell_type": "markdown",
   "id": "34309be1",
   "metadata": {},
   "source": [
    "### The distribution for petal length feature increases from iris-setosa to iris-virginica."
   ]
  },
  {
   "cell_type": "code",
   "execution_count": 10,
   "id": "1572a2a5",
   "metadata": {},
   "outputs": [
    {
     "data": {
      "text/plain": [
       "Text(0.5, 1.0, 'Petal width distribution based on class label')"
      ]
     },
     "execution_count": 10,
     "metadata": {},
     "output_type": "execute_result"
    },
    {
     "data": {
      "image/png": "[encoded data removed]",
      "text/plain": [
       "<Figure size 720x504 with 1 Axes>"
      ]
     },
     "metadata": {
      "needs_background": "light"
     },
     "output_type": "display_data"
    }
   ],
   "source": [
    "df1.boxplot(column = ['petal_width'], by ='Class_label',figsize = (10, 7))\n",
    "plt.title(\"Petal width distribution based on class label\")"
   ]
  },
  {
   "cell_type": "markdown",
   "id": "7a95ac87",
   "metadata": {},
   "source": [
    "### The distribution for petal width feature increases from iris-setosa to iris-virginica."
   ]
  },
  {
   "cell_type": "markdown",
   "id": "0fe7cc8e",
   "metadata": {},
   "source": [
    "### Dataframe to numpy arrays "
   ]
  },
  {
   "cell_type": "code",
   "execution_count": 11,
   "id": "38a8e0e4",
   "metadata": {},
   "outputs": [],
   "source": [
    "X_iris = df1[['sepal_length','sepal_width','petal_length','petal_width']].to_numpy()\n",
    "Y_iris = df1[['Label_type']].to_numpy()\n"
   ]
  },
  {
   "cell_type": "code",
   "execution_count": 12,
   "id": "9b1618c7",
   "metadata": {},
   "outputs": [],
   "source": [
    "cmap_light = ListedColormap(['#FBBBB9', '#82CAFF','#52F268',]) \n",
    "cmap_bold = ListedColormap(['#CA226B', '#2B65EC','#09B01F']) \n",
    "cmap_test = ListedColormap(['#8E35EF', '#659EC7','#D1BE15'])\n",
    "cmap_predict = ListedColormap(['#FCDFFF', '#E0FFFF','#FCEBB1'])"
   ]
  },
  {
   "cell_type": "markdown",
   "id": "ffe706e0",
   "metadata": {},
   "source": [
    "## Functions for calculating K-Nearest Neigbours"
   ]
  },
  {
   "cell_type": "code",
   "execution_count": 13,
   "id": "464f72c2",
   "metadata": {},
   "outputs": [],
   "source": [
    "def meshGrid (x , y , h):\n",
    "    '''x is data for x-axis meshgrid\n",
    "       y is data for y-axis meshgrid\n",
    "       h is stepsize\n",
    "    '''\n",
    "    x_min, x_max = x.min() - 1 , x.max() + 1\n",
    "    y_min, y_max = y.min() - 1 , y.max() + 1\n",
    "    xx, yy = np.meshgrid(np.arange(x_min, x_max, h), np.arange(y_min, y_max, h))\n",
    "    \n",
    "    return xx , yy"
   ]
  },
  {
   "cell_type": "markdown",
   "id": "3ddadda9",
   "metadata": {},
   "source": [
    "### Calculating Euclidean distance\n",
    "\n",
    "  Computing the squared distance between each test example and each training example\n",
    "\n",
    "  Input:\n",
    "  - X_test: A numpy array of shape (num_test, dim_feat) containing test data\n",
    "  - X_train: A numpy array of shape (num_train, dim_feat) containing training data\n",
    "\n",
    "  Output:\n",
    "  - dists: A numpy array of shape (num_test, num_train) where \n",
    "           dist[i, j] is the squared Euclidean distance between \n",
    "           the i-th test example and the j-th training example"
   ]
  },
  {
   "cell_type": "code",
   "execution_count": 14,
   "id": "90c6d133",
   "metadata": {},
   "outputs": [],
   "source": [
    "def my_euclidean_dist(X_test, X_train):\n",
    "    num_test = X_test.shape[0]\n",
    "    num_train = X_train.shape[0]\n",
    "    dists = np.zeros((num_test, num_train))\n",
    " \n",
    "    a = np.zeros((num_test, 1))\n",
    "    b = np.zeros((num_train,1))\n",
    "    for i in range(0, num_test):\n",
    "        a[i] = sum(pow(X_test[i],2))\n",
    "    for i in range(0, num_train):\n",
    "        b[i] = sum(pow(X_train[i],2))\n",
    "    for i in range(0, num_test):\n",
    "        for j in range(0, num_train):\n",
    "            dists[i,j] = a[i] + b[j] - 2 * np.dot(X_test[i], X_train[j])\n",
    "    return dists\n"
   ]
  },
  {
   "cell_type": "markdown",
   "id": "eb991853",
   "metadata": {},
   "source": [
    "### Defining function to \n",
    "### a)find the top k nearest neighbors for each test sample.\n",
    "### b) retrieve the corresponding labels of those neighbors.\n",
    "\n",
    "\n",
    "  Inputs:\n",
    "  - dists: distance matrix of shape (num_test, num_train)\n",
    "  - Y_train: A numpy array of shape (num_train) containing ground truth labels for training data\n",
    "  - k: An integer, k nearest neighbors\n",
    "\n",
    "  Output:\n",
    "  - neighbors: A numpy array of shape (num_test, k), where each row containts the \n",
    "               labels of the k nearest neighbors for each test example\n",
    " "
   ]
  },
  {
   "cell_type": "code",
   "execution_count": 15,
   "id": "e312278d",
   "metadata": {},
   "outputs": [],
   "source": [
    "def find_k_neighbors(dists, Y_train, k):\n",
    "    num_test = dists.shape[0]\n",
    "    neighbors = np.zeros((num_test, k))\n",
    "    for i in range(0, num_test):\n",
    "        idx = np.argsort(dists[i])\n",
    "        neighbors[i] = [Y_train[idx[ki]] for ki in range (0, k)]\n",
    "    return neighbors"
   ]
  },
  {
   "cell_type": "markdown",
   "id": "b2058a0f",
   "metadata": {},
   "source": [
    "### Defining KNN predict function to predict labels for test data.\n",
    "\n",
    "  Inputs:\n",
    "  - X_test: A numpy array of shape (num_test, dim_feat) containing test data.\n",
    "  - X_train: A numpy array of shape (num_train, dim_feat) containing training data.\n",
    "  - Y_train: A numpy array of shape (num_train) containing ground truth labels for training data\n",
    "  - k: An integer, k nearest neighbors\n",
    "\n",
    "  Output:\n",
    "  - Y_pred: A numpy array of shape (num_test). Predicted labels for the test data.\n",
    " "
   ]
  },
  {
   "cell_type": "code",
   "execution_count": 30,
   "id": "f6993977",
   "metadata": {},
   "outputs": [],
   "source": [
    "def knn_predict(X_test, X_train, Y_train, k):\n",
    "\n",
    "    num_test = X_test.shape[0]\n",
    "    dists = my_euclidean_dist(X_test, X_train)\n",
    "    neighbors = find_k_neighbors(dists, Y_train, k)\n",
    "    Y_pred = np.zeros(num_test, dtype=int)\n",
    "    for i in range(0, num_test):\n",
    "        Y_pred[i] = sum(np.unique(neighbors[i]))\n",
    "        a,count=np.unique(neighbors[i],return_counts=True)\n",
    "        Y_pred[i]=a[count.argmax()]\n",
    "    return Y_pred"
   ]
  },
  {
   "cell_type": "markdown",
   "id": "f9230ca3",
   "metadata": {},
   "source": [
    "### Plotting decision boundary along with confusion matrix and xlassification report  for different values of k"
   ]
  },
  {
   "cell_type": "code",
   "execution_count": 31,
   "id": "bd4128d4",
   "metadata": {},
   "outputs": [
    {
     "name": "stderr",
     "output_type": "stream",
     "text": [
      "<ipython-input-15-a0f583fe7233>:6: DeprecationWarning: setting an array element with a sequence. This was supported in some cases where the elements are arrays with a single element. For example `np.array([1, np.array([2])], dtype=int)`. In the future this will raise the same ValueError as `np.array([1, [2]], dtype=int)`.\n",
      "  neighbors[i] = [Y_train[idx[ki]] for ki in range (0, k)]\n"
     ]
    },
    {
     "name": "stdout",
     "output_type": "stream",
     "text": [
      "Value of k :  1\n",
      "              precision    recall  f1-score   support\n",
      "\n",
      "           0       1.00      1.00      1.00        10\n",
      "           1       0.56      0.50      0.53        10\n",
      "           2       0.55      0.60      0.57        10\n",
      "\n",
      "    accuracy                           0.70        30\n",
      "   macro avg       0.70      0.70      0.70        30\n",
      "weighted avg       0.70      0.70      0.70        30\n",
      "\n",
      "[[10  0  0]\n",
      " [ 0  5  5]\n",
      " [ 0  4  6]]\n"
     ]
    },
    {
     "name": "stderr",
     "output_type": "stream",
     "text": [
      "<ipython-input-15-a0f583fe7233>:6: DeprecationWarning: setting an array element with a sequence. This was supported in some cases where the elements are arrays with a single element. For example `np.array([1, np.array([2])], dtype=int)`. In the future this will raise the same ValueError as `np.array([1, [2]], dtype=int)`.\n",
      "  neighbors[i] = [Y_train[idx[ki]] for ki in range (0, k)]\n",
      "<ipython-input-31-b0dbd8e653cc>:20: MatplotlibDeprecationWarning: shading='flat' when X and Y have the same dimensions as C is deprecated since 3.3.  Either specify the corners of the quadrilaterals with X and Y, or pass shading='auto', 'nearest' or 'gouraud', or set rcParams['pcolor.shading'].  This will become an error two minor releases later.\n",
      "  plt.pcolormesh(xx, yy, Z, cmap=cmap_light)\n"
     ]
    },
    {
     "name": "stdout",
     "output_type": "stream",
     "text": [
      "Value of k :  2\n",
      "              precision    recall  f1-score   support\n",
      "\n",
      "           0       1.00      1.00      1.00        10\n",
      "           1       0.67      0.80      0.73        10\n",
      "           2       0.75      0.60      0.67        10\n",
      "\n",
      "    accuracy                           0.80        30\n",
      "   macro avg       0.81      0.80      0.80        30\n",
      "weighted avg       0.81      0.80      0.80        30\n",
      "\n",
      "[[10  0  0]\n",
      " [ 0  8  2]\n",
      " [ 0  4  6]]\n"
     ]
    },
    {
     "name": "stderr",
     "output_type": "stream",
     "text": [
      "<ipython-input-15-a0f583fe7233>:6: DeprecationWarning: setting an array element with a sequence. This was supported in some cases where the elements are arrays with a single element. For example `np.array([1, np.array([2])], dtype=int)`. In the future this will raise the same ValueError as `np.array([1, [2]], dtype=int)`.\n",
      "  neighbors[i] = [Y_train[idx[ki]] for ki in range (0, k)]\n",
      "<ipython-input-31-b0dbd8e653cc>:20: MatplotlibDeprecationWarning: shading='flat' when X and Y have the same dimensions as C is deprecated since 3.3.  Either specify the corners of the quadrilaterals with X and Y, or pass shading='auto', 'nearest' or 'gouraud', or set rcParams['pcolor.shading'].  This will become an error two minor releases later.\n",
      "  plt.pcolormesh(xx, yy, Z, cmap=cmap_light)\n"
     ]
    },
    {
     "name": "stdout",
     "output_type": "stream",
     "text": [
      "Value of k :  4\n",
      "              precision    recall  f1-score   support\n",
      "\n",
      "           0       1.00      1.00      1.00        10\n",
      "           1       0.58      0.70      0.64        10\n",
      "           2       0.62      0.50      0.56        10\n",
      "\n",
      "    accuracy                           0.73        30\n",
      "   macro avg       0.74      0.73      0.73        30\n",
      "weighted avg       0.74      0.73      0.73        30\n",
      "\n",
      "[[10  0  0]\n",
      " [ 0  7  3]\n",
      " [ 0  5  5]]\n"
     ]
    },
    {
     "name": "stderr",
     "output_type": "stream",
     "text": [
      "<ipython-input-15-a0f583fe7233>:6: DeprecationWarning: setting an array element with a sequence. This was supported in some cases where the elements are arrays with a single element. For example `np.array([1, np.array([2])], dtype=int)`. In the future this will raise the same ValueError as `np.array([1, [2]], dtype=int)`.\n",
      "  neighbors[i] = [Y_train[idx[ki]] for ki in range (0, k)]\n",
      "<ipython-input-31-b0dbd8e653cc>:20: MatplotlibDeprecationWarning: shading='flat' when X and Y have the same dimensions as C is deprecated since 3.3.  Either specify the corners of the quadrilaterals with X and Y, or pass shading='auto', 'nearest' or 'gouraud', or set rcParams['pcolor.shading'].  This will become an error two minor releases later.\n",
      "  plt.pcolormesh(xx, yy, Z, cmap=cmap_light)\n"
     ]
    },
    {
     "name": "stdout",
     "output_type": "stream",
     "text": [
      "Value of k :  6\n",
      "              precision    recall  f1-score   support\n",
      "\n",
      "           0       1.00      1.00      1.00        10\n",
      "           1       0.67      0.80      0.73        10\n",
      "           2       0.75      0.60      0.67        10\n",
      "\n",
      "    accuracy                           0.80        30\n",
      "   macro avg       0.81      0.80      0.80        30\n",
      "weighted avg       0.81      0.80      0.80        30\n",
      "\n",
      "[[10  0  0]\n",
      " [ 0  8  2]\n",
      " [ 0  4  6]]\n"
     ]
    },
    {
     "name": "stderr",
     "output_type": "stream",
     "text": [
      "<ipython-input-15-a0f583fe7233>:6: DeprecationWarning: setting an array element with a sequence. This was supported in some cases where the elements are arrays with a single element. For example `np.array([1, np.array([2])], dtype=int)`. In the future this will raise the same ValueError as `np.array([1, [2]], dtype=int)`.\n",
      "  neighbors[i] = [Y_train[idx[ki]] for ki in range (0, k)]\n",
      "<ipython-input-31-b0dbd8e653cc>:20: MatplotlibDeprecationWarning: shading='flat' when X and Y have the same dimensions as C is deprecated since 3.3.  Either specify the corners of the quadrilaterals with X and Y, or pass shading='auto', 'nearest' or 'gouraud', or set rcParams['pcolor.shading'].  This will become an error two minor releases later.\n",
      "  plt.pcolormesh(xx, yy, Z, cmap=cmap_light)\n"
     ]
    },
    {
     "name": "stdout",
     "output_type": "stream",
     "text": [
      "Value of k :  10\n",
      "              precision    recall  f1-score   support\n",
      "\n",
      "           0       1.00      1.00      1.00        10\n",
      "           1       0.62      0.80      0.70        10\n",
      "           2       0.71      0.50      0.59        10\n",
      "\n",
      "    accuracy                           0.77        30\n",
      "   macro avg       0.78      0.77      0.76        30\n",
      "weighted avg       0.78      0.77      0.76        30\n",
      "\n",
      "[[10  0  0]\n",
      " [ 0  8  2]\n",
      " [ 0  5  5]]\n"
     ]
    },
    {
     "name": "stderr",
     "output_type": "stream",
     "text": [
      "<ipython-input-15-a0f583fe7233>:6: DeprecationWarning: setting an array element with a sequence. This was supported in some cases where the elements are arrays with a single element. For example `np.array([1, np.array([2])], dtype=int)`. In the future this will raise the same ValueError as `np.array([1, [2]], dtype=int)`.\n",
      "  neighbors[i] = [Y_train[idx[ki]] for ki in range (0, k)]\n",
      "<ipython-input-31-b0dbd8e653cc>:20: MatplotlibDeprecationWarning: shading='flat' when X and Y have the same dimensions as C is deprecated since 3.3.  Either specify the corners of the quadrilaterals with X and Y, or pass shading='auto', 'nearest' or 'gouraud', or set rcParams['pcolor.shading'].  This will become an error two minor releases later.\n",
      "  plt.pcolormesh(xx, yy, Z, cmap=cmap_light)\n"
     ]
    },
    {
     "data": {
      "image/png": "[encoded data removed]",
      "text/plain": [
       "<Figure size 432x288 with 1 Axes>"
      ]
     },
     "metadata": {
      "needs_background": "light"
     },
     "output_type": "display_data"
    },
    {
     "data": {
      "image/png": "[encoded data removed]",
      "text/plain": [
       "<Figure size 432x288 with 1 Axes>"
      ]
     },
     "metadata": {
      "needs_background": "light"
     },
     "output_type": "display_data"
    },
    {
     "data": {
      "image/png": "[encoded data removed]",
      "text/plain": [
       "<Figure size 432x288 with 1 Axes>"
      ]
     },
     "metadata": {
      "needs_background": "light"
     },
     "output_type": "display_data"
    },
    {
     "data": {
      "image/png": "[encoded data removed]",
      "text/plain": [
       "<Figure size 432x288 with 1 Axes>"
      ]
     },
     "metadata": {
      "needs_background": "light"
     },
     "output_type": "display_data"
    },
    {
     "data": {
      "image/png": "[encoded data removed]",
      "text/plain": [
       "<Figure size 432x288 with 1 Axes>"
      ]
     },
     "metadata": {
      "needs_background": "light"
     },
     "output_type": "display_data"
    }
   ],
   "source": [
    "iris_X_train, iris_X_test, iris_y_train, iris_y_test = train_test_split(X_iris[:,:2], Y_iris, stratify = Y_iris, test_size = 0.20)\n",
    "k=1\n",
    "for k in [1,2,4,6,10]:\n",
    "    Y_pred = knn_predict(iris_X_test, iris_X_train, iris_y_train, k)\n",
    "    print(\"Value of k : \",k)\n",
    "    print(metrics.classification_report(iris_y_test, Y_pred))\n",
    "    print(metrics.confusion_matrix(iris_y_test, Y_pred))\n",
    "\n",
    "    h = 0.2\n",
    "\n",
    "    x_min, x_max = iris_X_train[:, 0].min() - 1, iris_X_train[:, 0].max() + 1\n",
    "    y_min, y_max = iris_X_train[:, 1].min() - 1, iris_X_train[:, 1].max() + 1\n",
    "\n",
    "    xx, yy = np.meshgrid(np.arange(x_min, x_max, h),np.arange(y_min, y_max, h))\n",
    "\n",
    "    Z = knn_predict(np.c_[xx.ravel(), yy.ravel()],iris_X_train,iris_y_train,k)\n",
    "    Z = Z.reshape(xx.shape)\n",
    "\n",
    "    plt.figure()\n",
    "    plt.pcolormesh(xx, yy, Z, cmap=cmap_light)\n",
    "    plt.scatter(iris_X_train[:, 0], iris_X_train[:, 1], c= iris_y_train, cmap=cmap_bold,edgecolor='k', s=40)\n",
    "    plt.scatter(iris_X_test[:, 0],  iris_X_test[:, 1], alpha=1.0,c = iris_y_test, cmap=cmap_test ,linewidth=1, marker='X', s=55)\n",
    "    plt.xlim(xx.min(), xx.max())\n",
    "    plt.ylim(yy.min(), yy.max())\n",
    "    plt.title(k)\n"
   ]
  },
  {
   "cell_type": "markdown",
   "id": "31144ff0",
   "metadata": {},
   "source": [
    "## Problem 02"
   ]
  },
  {
   "cell_type": "markdown",
   "id": "00977477",
   "metadata": {},
   "source": [
    "### Reading Bank Notes dataset"
   ]
  },
  {
   "cell_type": "code",
   "execution_count": 20,
   "id": "f189cba8",
   "metadata": {},
   "outputs": [
    {
     "data": {
      "text/html": [
       "<div>\n",
       "<style scoped>\n",
       "    .dataframe tbody tr th:only-of-type {\n",
       "        vertical-align: middle;\n",
       "    }\n",
       "\n",
       "    .dataframe tbody tr th {\n",
       "        vertical-align: top;\n",
       "    }\n",
       "\n",
       "    .dataframe thead th {\n",
       "        text-align: right;\n",
       "    }\n",
       "</style>\n",
       "<table border=\"1\" class=\"dataframe\">\n",
       "  <thead>\n",
       "    <tr style=\"text-align: right;\">\n",
       "      <th></th>\n",
       "      <th>Variance</th>\n",
       "      <th>Skewness</th>\n",
       "      <th>Kurtosis</th>\n",
       "      <th>Entropy</th>\n",
       "      <th>Class_label</th>\n",
       "    </tr>\n",
       "  </thead>\n",
       "  <tbody>\n",
       "    <tr>\n",
       "      <th>0</th>\n",
       "      <td>4.54590</td>\n",
       "      <td>8.1674</td>\n",
       "      <td>-2.4586</td>\n",
       "      <td>-1.46210</td>\n",
       "      <td>0</td>\n",
       "    </tr>\n",
       "    <tr>\n",
       "      <th>1</th>\n",
       "      <td>3.86600</td>\n",
       "      <td>-2.6383</td>\n",
       "      <td>1.9242</td>\n",
       "      <td>0.10645</td>\n",
       "      <td>0</td>\n",
       "    </tr>\n",
       "    <tr>\n",
       "      <th>2</th>\n",
       "      <td>3.45660</td>\n",
       "      <td>9.5228</td>\n",
       "      <td>-4.0112</td>\n",
       "      <td>-3.59440</td>\n",
       "      <td>0</td>\n",
       "    </tr>\n",
       "    <tr>\n",
       "      <th>3</th>\n",
       "      <td>0.32924</td>\n",
       "      <td>-4.4552</td>\n",
       "      <td>4.5718</td>\n",
       "      <td>-0.98880</td>\n",
       "      <td>0</td>\n",
       "    </tr>\n",
       "    <tr>\n",
       "      <th>4</th>\n",
       "      <td>4.36840</td>\n",
       "      <td>9.6718</td>\n",
       "      <td>-3.9606</td>\n",
       "      <td>-3.16250</td>\n",
       "      <td>0</td>\n",
       "    </tr>\n",
       "  </tbody>\n",
       "</table>\n",
       "</div>"
      ],
      "text/plain": [
       "   Variance  Skewness  Kurtosis  Entropy  Class_label\n",
       "0   4.54590    8.1674   -2.4586 -1.46210            0\n",
       "1   3.86600   -2.6383    1.9242  0.10645            0\n",
       "2   3.45660    9.5228   -4.0112 -3.59440            0\n",
       "3   0.32924   -4.4552    4.5718 -0.98880            0\n",
       "4   4.36840    9.6718   -3.9606 -3.16250            0"
      ]
     },
     "execution_count": 20,
     "metadata": {},
     "output_type": "execute_result"
    }
   ],
   "source": [
    "df2=pd.read_csv(\"data_banknote_authentication.csv\")\n",
    "df2.columns =['Variance', 'Skewness', 'Kurtosis' ,'Entropy', 'Class_label']\n",
    "df2.head()"
   ]
  },
  {
   "cell_type": "markdown",
   "id": "9f221b24",
   "metadata": {},
   "source": [
    "### Converting dataframe to numpy arrays"
   ]
  },
  {
   "cell_type": "code",
   "execution_count": 23,
   "id": "b5d64954",
   "metadata": {},
   "outputs": [],
   "source": [
    "X_bank = df2[['Variance','Skewness','Kurtosis','Entropy']].to_numpy()\n",
    "Y_bank = df2[['Class_label']].to_numpy()"
   ]
  },
  {
   "cell_type": "markdown",
   "id": "9b34ed5e",
   "metadata": {},
   "source": [
    "### Defining function to calculate minkowski distance"
   ]
  },
  {
   "cell_type": "code",
   "execution_count": 24,
   "id": "49efa9b6",
   "metadata": {},
   "outputs": [],
   "source": [
    "def minkoswski_dist(X_test, X_train,p=3):\n",
    "    num_test = X_test.shape[0]\n",
    "    num_train = X_train.shape[0]\n",
    "    dists = np.zeros((num_test, num_train))\n",
    "    a = np.zeros((num_test, 1))\n",
    "    b = np.zeros((num_train,1))\n",
    "    for i in range(0, num_test):\n",
    "        for j in range(0, num_train):\n",
    "            dists[i,j]=0\n",
    "            for k in range(4):\n",
    "                dists[i,j]+=math.pow(abs(X_test[i][k]-X_train[j][k]),p)\n",
    "            dists[i,j]=math.pow(dists[i,j],1/p)\n",
    "            \n",
    "    return dists\n"
   ]
  },
  {
   "cell_type": "markdown",
   "id": "4515bf95",
   "metadata": {},
   "source": [
    "### Defining function to calculate manhattan distance"
   ]
  },
  {
   "cell_type": "code",
   "execution_count": 25,
   "id": "742a9316",
   "metadata": {},
   "outputs": [],
   "source": [
    "def manhattan_dist(X_test, X_train):\n",
    "    num_test = X_test.shape[0]\n",
    "    num_train = X_train.shape[0]\n",
    "    dists = np.zeros((num_test, num_train))\n",
    "    for i in range(0, num_test):\n",
    "        for j in range(0, num_train):\n",
    "            dists[i,j]=0\n",
    "            for k in range(4):\n",
    "                dists[i,j]+=abs(X_test[i][k]-X_train[j][k])\n",
    "    return dists\n"
   ]
  },
  {
   "cell_type": "markdown",
   "id": "6c8ebdb0",
   "metadata": {},
   "source": [
    "### Defining knn_predict function to predict labels using mean instead of majority voting"
   ]
  },
  {
   "cell_type": "code",
   "execution_count": 32,
   "id": "36712ac5",
   "metadata": {},
   "outputs": [],
   "source": [
    "def knn_predict_mean(X_test, X_train, y_train, k):\n",
    "    num_test = X_test.shape[0]\n",
    "    dists = my_euclidean_dist(X_test, X_train)\n",
    "    neighbors = find_k_neighbors(dists, y_train, k)\n",
    "    Y_pred = np.zeros(num_test, dtype=int)\n",
    "    for i in range(0, num_test):\n",
    "        Y_pred[i] = sum(neighbors[i])//len(neighbors[i])\n",
    "    print(Y_pred)\n",
    "    return Y_pred"
   ]
  },
  {
   "cell_type": "markdown",
   "id": "22dabdc6",
   "metadata": {},
   "source": [
    "### Prediction using majority voting : unique()"
   ]
  },
  {
   "cell_type": "code",
   "execution_count": 33,
   "id": "bed286e5",
   "metadata": {},
   "outputs": [
    {
     "name": "stdout",
     "output_type": "stream",
     "text": [
      "              precision    recall  f1-score   support\n",
      "\n",
      "           0       1.00      1.00      1.00       153\n",
      "           1       1.00      1.00      1.00       122\n",
      "\n",
      "    accuracy                           1.00       275\n",
      "   macro avg       1.00      1.00      1.00       275\n",
      "weighted avg       1.00      1.00      1.00       275\n",
      "\n",
      "[[153   0]\n",
      " [  0 122]]\n"
     ]
    },
    {
     "name": "stderr",
     "output_type": "stream",
     "text": [
      "<ipython-input-15-a0f583fe7233>:6: DeprecationWarning: setting an array element with a sequence. This was supported in some cases where the elements are arrays with a single element. For example `np.array([1, np.array([2])], dtype=int)`. In the future this will raise the same ValueError as `np.array([1, [2]], dtype=int)`.\n",
      "  neighbors[i] = [Y_train[idx[ki]] for ki in range (0, k)]\n"
     ]
    }
   ],
   "source": [
    "X_train, X_test, y_train, y_test = train_test_split(X_bank, Y_bank,stratify = Y_bank, test_size=0.20)\n",
    "k=2\n",
    "Y_pred = knn_predict(X_test, X_train, y_train, k)\n",
    "print(metrics.classification_report(y_test, Y_pred))\n",
    "print(metrics.confusion_matrix(y_test, Y_pred))"
   ]
  },
  {
   "cell_type": "markdown",
   "id": "71d105b8",
   "metadata": {},
   "source": [
    "### Prediction using mean"
   ]
  },
  {
   "cell_type": "code",
   "execution_count": 34,
   "id": "177a3ac2",
   "metadata": {},
   "outputs": [
    {
     "name": "stdout",
     "output_type": "stream",
     "text": [
      "[1 0 0 1 0 1 0 0 0 1 0 0 0 1 1 0 0 0 1 0 1 0 1 1 0 0 1 0 0 1 0 0 1 1 1 0 0\n",
      " 0 0 1 0 0 0 0 1 0 0 1 0 1 1 1 1 0 0 1 1 0 1 1 0 1 1 1 1 1 0 1 1 0 1 0 1 0\n",
      " 1 0 0 1 0 0 1 0 1 0 0 0 0 1 1 1 0 1 1 0 0 0 0 0 1 0 0 0 1 0 1 1 1 0 0 1 0\n",
      " 1 0 0 0 1 1 0 1 1 1 0 0 0 1 0 1 0 0 1 1 0 0 1 1 1 0 0 0 0 0 0 0 1 1 1 0 1\n",
      " 0 1 0 1 1 0 1 1 0 1 0 0 1 0 1 1 0 0 0 0 0 1 0 1 1 0 1 1 0 0 1 1 0 1 0 1 1\n",
      " 1 1 1 0 1 1 1 0 0 0 0 0 1 0 0 0 0 0 0 1 1 0 1 1 0 0 0 1 0 0 1 0 0 0 0 1 0\n",
      " 1 1 0 1 1 0 1 1 1 0 1 0 0 1 1 0 0 0 1 0 0 0 0 0 0 0 1 1 1 0 1 1 0 1 0 1 0\n",
      " 0 0 1 0 0 0 0 1 0 0 0 1 0 1 1 0]\n",
      "              precision    recall  f1-score   support\n",
      "\n",
      "           0       1.00      0.99      1.00       153\n",
      "           1       0.99      1.00      1.00       122\n",
      "\n",
      "    accuracy                           1.00       275\n",
      "   macro avg       1.00      1.00      1.00       275\n",
      "weighted avg       1.00      1.00      1.00       275\n",
      "\n",
      "[[152   1]\n",
      " [  0 122]]\n"
     ]
    },
    {
     "name": "stderr",
     "output_type": "stream",
     "text": [
      "<ipython-input-15-a0f583fe7233>:6: DeprecationWarning: setting an array element with a sequence. This was supported in some cases where the elements are arrays with a single element. For example `np.array([1, np.array([2])], dtype=int)`. In the future this will raise the same ValueError as `np.array([1, [2]], dtype=int)`.\n",
      "  neighbors[i] = [Y_train[idx[ki]] for ki in range (0, k)]\n"
     ]
    }
   ],
   "source": [
    "X_train, X_test, y_train, y_test = train_test_split(X_bank, Y_bank,stratify=Y_bank, test_size=0.20)\n",
    "k=2\n",
    "Y_pred = knn_predict_mean(X_test, X_train, y_train, k)\n",
    "print(metrics.classification_report(y_test, Y_pred))\n",
    "print(metrics.confusion_matrix(y_test, Y_pred))\n",
    "\n"
   ]
  },
  {
   "cell_type": "markdown",
   "id": "0c6852bc",
   "metadata": {},
   "source": [
    "## Considering all features, at k=2, there is no difference in the accuracy"
   ]
  },
  {
   "cell_type": "markdown",
   "id": "bf26bc82",
   "metadata": {},
   "source": [
    "### Defining knn_predict function, but calculating distance between test and training exmples using manhattan distance formula"
   ]
  },
  {
   "cell_type": "code",
   "execution_count": 35,
   "id": "f69d8daf",
   "metadata": {},
   "outputs": [],
   "source": [
    "def knn_predict_manhattan(X_test, X_train, y_train, k):\n",
    "\n",
    "    num_test = X_test.shape[0]\n",
    "    dists = manhattan_dist(X_test, X_train)\n",
    "    neighbors = find_k_neighbors(dists, y_train, k)\n",
    "    Y_pred = np.zeros(num_test, dtype=int)\n",
    "    for i in range(0, num_test):\n",
    "        Y_pred[i] = sum(neighbors[i])//len(neighbors[i])\n",
    "    print(Y_pred)\n",
    "    return Y_pred"
   ]
  },
  {
   "cell_type": "code",
   "execution_count": 36,
   "id": "47a9643e",
   "metadata": {
    "scrolled": true
   },
   "outputs": [
    {
     "name": "stdout",
     "output_type": "stream",
     "text": [
      "[1 0 0 0 0 0 1 0 1 0 0 1 1 1 1 1 0 0 1 1 0 1 1 0 0 0 0 0 0 1 1 0 1 1 0 1 0\n",
      " 1 0 0 0 1 0 1 0 1 0 1 0 0 1 1 1 1 0 0 1 0 0 1 0 1 0 0 1 1 0 1 1 0 0 0 0 1\n",
      " 0 1 0 0 0 0 0 1 0 1 1 0 0 0 1 0 0 0 1 1 1 0 1 1 0 0 1 1 0 0 0 0 1 1 0 1 1\n",
      " 1 0 1 0 0 0 1 1 0 0 0 1 1 1 0 0 1 1 0 0 0 1 0 0 1 1 0 1 1 0 1 1 1 0 0 1 1\n",
      " 0 0 0 1 0 0 1 1 1 1 0 1 0 0 1 0 0 1 1 1 0 0 0 0 1 1 0 0 0 0 0 0 0 1 1 0 0\n",
      " 0 1 0 1 1 0 0 0 0 1 1 1 1 0 0 1 1 0 0 0 1 1 1 0 0 1 0 1 0 1 1 0 0 1 0 1 0\n",
      " 0 0 0 0 0 0 0 1 0 0 0 0 0 1 1 0 0 1 0 1 1 0 0 1 1 1 1 0 1 0 1 0 0 0 0 0 0\n",
      " 1 1 1 1 0 0 1 1 0 1 1 0 1 0 0 0]\n",
      "              precision    recall  f1-score   support\n",
      "\n",
      "           0       1.00      1.00      1.00       153\n",
      "           1       1.00      1.00      1.00       122\n",
      "\n",
      "    accuracy                           1.00       275\n",
      "   macro avg       1.00      1.00      1.00       275\n",
      "weighted avg       1.00      1.00      1.00       275\n",
      "\n",
      "[[153   0]\n",
      " [  0 122]]\n"
     ]
    },
    {
     "name": "stderr",
     "output_type": "stream",
     "text": [
      "<ipython-input-15-a0f583fe7233>:6: DeprecationWarning: setting an array element with a sequence. This was supported in some cases where the elements are arrays with a single element. For example `np.array([1, np.array([2])], dtype=int)`. In the future this will raise the same ValueError as `np.array([1, [2]], dtype=int)`.\n",
      "  neighbors[i] = [Y_train[idx[ki]] for ki in range (0, k)]\n"
     ]
    }
   ],
   "source": [
    "X_train, X_test, y_train, y_test = train_test_split(X_bank, Y_bank,stratify=Y_bank, test_size=0.20)\n",
    "Y_pred = knn_predict_manhattan(X_test, X_train, y_train, 2)\n",
    "print(metrics.classification_report(y_test, Y_pred))\n",
    "print(metrics.confusion_matrix(y_test, Y_pred))\n",
    "\n"
   ]
  },
  {
   "cell_type": "markdown",
   "id": "a4e657c6",
   "metadata": {},
   "source": [
    "### Defining knn_predict function, but calculating distance between test and training exmples using minkowski distance formula"
   ]
  },
  {
   "cell_type": "code",
   "execution_count": 39,
   "id": "53dc2d87",
   "metadata": {},
   "outputs": [],
   "source": [
    "def knn_predict_min(X_test, X_train, y_train, k):\n",
    "    num_test = X_test.shape[0]\n",
    "    dists = minkoswski_dist(X_test,X_train)\n",
    "    neighbors = find_k_neighbors(dists, y_train, k)\n",
    "    Y_pred = np.zeros(num_test, dtype=int)\n",
    "    for i in range(0, num_test):\n",
    "        Y_pred[i] = sum(neighbors[i])//len(neighbors[i])\n",
    "    return Y_pred"
   ]
  },
  {
   "cell_type": "code",
   "execution_count": 42,
   "id": "99f481a6",
   "metadata": {},
   "outputs": [
    {
     "name": "stdout",
     "output_type": "stream",
     "text": [
      "              precision    recall  f1-score   support\n",
      "\n",
      "           0       1.00      1.00      1.00       153\n",
      "           1       1.00      1.00      1.00       122\n",
      "\n",
      "    accuracy                           1.00       275\n",
      "   macro avg       1.00      1.00      1.00       275\n",
      "weighted avg       1.00      1.00      1.00       275\n",
      "\n",
      "[[153   0]\n",
      " [  0 122]]\n"
     ]
    },
    {
     "name": "stderr",
     "output_type": "stream",
     "text": [
      "<ipython-input-15-a0f583fe7233>:6: DeprecationWarning: setting an array element with a sequence. This was supported in some cases where the elements are arrays with a single element. For example `np.array([1, np.array([2])], dtype=int)`. In the future this will raise the same ValueError as `np.array([1, [2]], dtype=int)`.\n",
      "  neighbors[i] = [Y_train[idx[ki]] for ki in range (0, k)]\n"
     ]
    }
   ],
   "source": [
    "X_train, X_test, y_train, y_test = train_test_split(X_bank, Y_bank,stratify=Y_bank, test_size=0.20)\n",
    "Y_pred = knn_predict_min(X_test, X_train, y_train, 2)\n",
    "print(metrics.classification_report(y_test, Y_pred))\n",
    "print(metrics.confusion_matrix(y_test, Y_pred))\n",
    "\n"
   ]
  },
  {
   "cell_type": "markdown",
   "id": "3bce5686",
   "metadata": {},
   "source": [
    "## Problem 03"
   ]
  },
  {
   "cell_type": "markdown",
   "id": "6e91d30b",
   "metadata": {},
   "source": [
    "### Reading mnist_train and mnist_test files"
   ]
  },
  {
   "cell_type": "code",
   "execution_count": 43,
   "id": "12c5841d",
   "metadata": {},
   "outputs": [],
   "source": [
    "mnist_train = pd.read_csv(\"mnist_train.csv\",header=None)\n",
    "mnist_test = pd.read_csv(\"mnist_test.csv\",header=None)"
   ]
  },
  {
   "cell_type": "code",
   "execution_count": 44,
   "id": "9bc71b4d",
   "metadata": {},
   "outputs": [
    {
     "data": {
      "text/html": [
       "<div>\n",
       "<style scoped>\n",
       "    .dataframe tbody tr th:only-of-type {\n",
       "        vertical-align: middle;\n",
       "    }\n",
       "\n",
       "    .dataframe tbody tr th {\n",
       "        vertical-align: top;\n",
       "    }\n",
       "\n",
       "    .dataframe thead th {\n",
       "        text-align: right;\n",
       "    }\n",
       "</style>\n",
       "<table border=\"1\" class=\"dataframe\">\n",
       "  <thead>\n",
       "    <tr style=\"text-align: right;\">\n",
       "      <th></th>\n",
       "      <th>0</th>\n",
       "      <th>1</th>\n",
       "      <th>2</th>\n",
       "      <th>3</th>\n",
       "      <th>4</th>\n",
       "      <th>5</th>\n",
       "      <th>6</th>\n",
       "      <th>7</th>\n",
       "      <th>8</th>\n",
       "      <th>9</th>\n",
       "      <th>...</th>\n",
       "      <th>775</th>\n",
       "      <th>776</th>\n",
       "      <th>777</th>\n",
       "      <th>778</th>\n",
       "      <th>779</th>\n",
       "      <th>780</th>\n",
       "      <th>781</th>\n",
       "      <th>782</th>\n",
       "      <th>783</th>\n",
       "      <th>784</th>\n",
       "    </tr>\n",
       "  </thead>\n",
       "  <tbody>\n",
       "    <tr>\n",
       "      <th>0</th>\n",
       "      <td>5</td>\n",
       "      <td>0</td>\n",
       "      <td>0</td>\n",
       "      <td>0</td>\n",
       "      <td>0</td>\n",
       "      <td>0</td>\n",
       "      <td>0</td>\n",
       "      <td>0</td>\n",
       "      <td>0</td>\n",
       "      <td>0</td>\n",
       "      <td>...</td>\n",
       "      <td>0</td>\n",
       "      <td>0</td>\n",
       "      <td>0</td>\n",
       "      <td>0</td>\n",
       "      <td>0</td>\n",
       "      <td>0</td>\n",
       "      <td>0</td>\n",
       "      <td>0</td>\n",
       "      <td>0</td>\n",
       "      <td>0</td>\n",
       "    </tr>\n",
       "    <tr>\n",
       "      <th>1</th>\n",
       "      <td>0</td>\n",
       "      <td>0</td>\n",
       "      <td>0</td>\n",
       "      <td>0</td>\n",
       "      <td>0</td>\n",
       "      <td>0</td>\n",
       "      <td>0</td>\n",
       "      <td>0</td>\n",
       "      <td>0</td>\n",
       "      <td>0</td>\n",
       "      <td>...</td>\n",
       "      <td>0</td>\n",
       "      <td>0</td>\n",
       "      <td>0</td>\n",
       "      <td>0</td>\n",
       "      <td>0</td>\n",
       "      <td>0</td>\n",
       "      <td>0</td>\n",
       "      <td>0</td>\n",
       "      <td>0</td>\n",
       "      <td>0</td>\n",
       "    </tr>\n",
       "    <tr>\n",
       "      <th>2</th>\n",
       "      <td>4</td>\n",
       "      <td>0</td>\n",
       "      <td>0</td>\n",
       "      <td>0</td>\n",
       "      <td>0</td>\n",
       "      <td>0</td>\n",
       "      <td>0</td>\n",
       "      <td>0</td>\n",
       "      <td>0</td>\n",
       "      <td>0</td>\n",
       "      <td>...</td>\n",
       "      <td>0</td>\n",
       "      <td>0</td>\n",
       "      <td>0</td>\n",
       "      <td>0</td>\n",
       "      <td>0</td>\n",
       "      <td>0</td>\n",
       "      <td>0</td>\n",
       "      <td>0</td>\n",
       "      <td>0</td>\n",
       "      <td>0</td>\n",
       "    </tr>\n",
       "    <tr>\n",
       "      <th>3</th>\n",
       "      <td>1</td>\n",
       "      <td>0</td>\n",
       "      <td>0</td>\n",
       "      <td>0</td>\n",
       "      <td>0</td>\n",
       "      <td>0</td>\n",
       "      <td>0</td>\n",
       "      <td>0</td>\n",
       "      <td>0</td>\n",
       "      <td>0</td>\n",
       "      <td>...</td>\n",
       "      <td>0</td>\n",
       "      <td>0</td>\n",
       "      <td>0</td>\n",
       "      <td>0</td>\n",
       "      <td>0</td>\n",
       "      <td>0</td>\n",
       "      <td>0</td>\n",
       "      <td>0</td>\n",
       "      <td>0</td>\n",
       "      <td>0</td>\n",
       "    </tr>\n",
       "    <tr>\n",
       "      <th>4</th>\n",
       "      <td>9</td>\n",
       "      <td>0</td>\n",
       "      <td>0</td>\n",
       "      <td>0</td>\n",
       "      <td>0</td>\n",
       "      <td>0</td>\n",
       "      <td>0</td>\n",
       "      <td>0</td>\n",
       "      <td>0</td>\n",
       "      <td>0</td>\n",
       "      <td>...</td>\n",
       "      <td>0</td>\n",
       "      <td>0</td>\n",
       "      <td>0</td>\n",
       "      <td>0</td>\n",
       "      <td>0</td>\n",
       "      <td>0</td>\n",
       "      <td>0</td>\n",
       "      <td>0</td>\n",
       "      <td>0</td>\n",
       "      <td>0</td>\n",
       "    </tr>\n",
       "  </tbody>\n",
       "</table>\n",
       "<p>5 rows × 785 columns</p>\n",
       "</div>"
      ],
      "text/plain": [
       "   0    1    2    3    4    5    6    7    8    9    ...  775  776  777  778  \\\n",
       "0    5    0    0    0    0    0    0    0    0    0  ...    0    0    0    0   \n",
       "1    0    0    0    0    0    0    0    0    0    0  ...    0    0    0    0   \n",
       "2    4    0    0    0    0    0    0    0    0    0  ...    0    0    0    0   \n",
       "3    1    0    0    0    0    0    0    0    0    0  ...    0    0    0    0   \n",
       "4    9    0    0    0    0    0    0    0    0    0  ...    0    0    0    0   \n",
       "\n",
       "   779  780  781  782  783  784  \n",
       "0    0    0    0    0    0    0  \n",
       "1    0    0    0    0    0    0  \n",
       "2    0    0    0    0    0    0  \n",
       "3    0    0    0    0    0    0  \n",
       "4    0    0    0    0    0    0  \n",
       "\n",
       "[5 rows x 785 columns]"
      ]
     },
     "execution_count": 44,
     "metadata": {},
     "output_type": "execute_result"
    }
   ],
   "source": [
    "mnist_train.head()"
   ]
  },
  {
   "cell_type": "code",
   "execution_count": 45,
   "id": "6d595f2c",
   "metadata": {},
   "outputs": [
    {
     "data": {
      "text/html": [
       "<div>\n",
       "<style scoped>\n",
       "    .dataframe tbody tr th:only-of-type {\n",
       "        vertical-align: middle;\n",
       "    }\n",
       "\n",
       "    .dataframe tbody tr th {\n",
       "        vertical-align: top;\n",
       "    }\n",
       "\n",
       "    .dataframe thead th {\n",
       "        text-align: right;\n",
       "    }\n",
       "</style>\n",
       "<table border=\"1\" class=\"dataframe\">\n",
       "  <thead>\n",
       "    <tr style=\"text-align: right;\">\n",
       "      <th></th>\n",
       "      <th>0</th>\n",
       "      <th>1</th>\n",
       "      <th>2</th>\n",
       "      <th>3</th>\n",
       "      <th>4</th>\n",
       "      <th>5</th>\n",
       "      <th>6</th>\n",
       "      <th>7</th>\n",
       "      <th>8</th>\n",
       "      <th>9</th>\n",
       "      <th>...</th>\n",
       "      <th>775</th>\n",
       "      <th>776</th>\n",
       "      <th>777</th>\n",
       "      <th>778</th>\n",
       "      <th>779</th>\n",
       "      <th>780</th>\n",
       "      <th>781</th>\n",
       "      <th>782</th>\n",
       "      <th>783</th>\n",
       "      <th>784</th>\n",
       "    </tr>\n",
       "  </thead>\n",
       "  <tbody>\n",
       "    <tr>\n",
       "      <th>0</th>\n",
       "      <td>7</td>\n",
       "      <td>0</td>\n",
       "      <td>0</td>\n",
       "      <td>0</td>\n",
       "      <td>0</td>\n",
       "      <td>0</td>\n",
       "      <td>0</td>\n",
       "      <td>0</td>\n",
       "      <td>0</td>\n",
       "      <td>0</td>\n",
       "      <td>...</td>\n",
       "      <td>0</td>\n",
       "      <td>0</td>\n",
       "      <td>0</td>\n",
       "      <td>0</td>\n",
       "      <td>0</td>\n",
       "      <td>0</td>\n",
       "      <td>0</td>\n",
       "      <td>0</td>\n",
       "      <td>0</td>\n",
       "      <td>0</td>\n",
       "    </tr>\n",
       "    <tr>\n",
       "      <th>1</th>\n",
       "      <td>2</td>\n",
       "      <td>0</td>\n",
       "      <td>0</td>\n",
       "      <td>0</td>\n",
       "      <td>0</td>\n",
       "      <td>0</td>\n",
       "      <td>0</td>\n",
       "      <td>0</td>\n",
       "      <td>0</td>\n",
       "      <td>0</td>\n",
       "      <td>...</td>\n",
       "      <td>0</td>\n",
       "      <td>0</td>\n",
       "      <td>0</td>\n",
       "      <td>0</td>\n",
       "      <td>0</td>\n",
       "      <td>0</td>\n",
       "      <td>0</td>\n",
       "      <td>0</td>\n",
       "      <td>0</td>\n",
       "      <td>0</td>\n",
       "    </tr>\n",
       "    <tr>\n",
       "      <th>2</th>\n",
       "      <td>1</td>\n",
       "      <td>0</td>\n",
       "      <td>0</td>\n",
       "      <td>0</td>\n",
       "      <td>0</td>\n",
       "      <td>0</td>\n",
       "      <td>0</td>\n",
       "      <td>0</td>\n",
       "      <td>0</td>\n",
       "      <td>0</td>\n",
       "      <td>...</td>\n",
       "      <td>0</td>\n",
       "      <td>0</td>\n",
       "      <td>0</td>\n",
       "      <td>0</td>\n",
       "      <td>0</td>\n",
       "      <td>0</td>\n",
       "      <td>0</td>\n",
       "      <td>0</td>\n",
       "      <td>0</td>\n",
       "      <td>0</td>\n",
       "    </tr>\n",
       "    <tr>\n",
       "      <th>3</th>\n",
       "      <td>0</td>\n",
       "      <td>0</td>\n",
       "      <td>0</td>\n",
       "      <td>0</td>\n",
       "      <td>0</td>\n",
       "      <td>0</td>\n",
       "      <td>0</td>\n",
       "      <td>0</td>\n",
       "      <td>0</td>\n",
       "      <td>0</td>\n",
       "      <td>...</td>\n",
       "      <td>0</td>\n",
       "      <td>0</td>\n",
       "      <td>0</td>\n",
       "      <td>0</td>\n",
       "      <td>0</td>\n",
       "      <td>0</td>\n",
       "      <td>0</td>\n",
       "      <td>0</td>\n",
       "      <td>0</td>\n",
       "      <td>0</td>\n",
       "    </tr>\n",
       "    <tr>\n",
       "      <th>4</th>\n",
       "      <td>4</td>\n",
       "      <td>0</td>\n",
       "      <td>0</td>\n",
       "      <td>0</td>\n",
       "      <td>0</td>\n",
       "      <td>0</td>\n",
       "      <td>0</td>\n",
       "      <td>0</td>\n",
       "      <td>0</td>\n",
       "      <td>0</td>\n",
       "      <td>...</td>\n",
       "      <td>0</td>\n",
       "      <td>0</td>\n",
       "      <td>0</td>\n",
       "      <td>0</td>\n",
       "      <td>0</td>\n",
       "      <td>0</td>\n",
       "      <td>0</td>\n",
       "      <td>0</td>\n",
       "      <td>0</td>\n",
       "      <td>0</td>\n",
       "    </tr>\n",
       "  </tbody>\n",
       "</table>\n",
       "<p>5 rows × 785 columns</p>\n",
       "</div>"
      ],
      "text/plain": [
       "   0    1    2    3    4    5    6    7    8    9    ...  775  776  777  778  \\\n",
       "0    7    0    0    0    0    0    0    0    0    0  ...    0    0    0    0   \n",
       "1    2    0    0    0    0    0    0    0    0    0  ...    0    0    0    0   \n",
       "2    1    0    0    0    0    0    0    0    0    0  ...    0    0    0    0   \n",
       "3    0    0    0    0    0    0    0    0    0    0  ...    0    0    0    0   \n",
       "4    4    0    0    0    0    0    0    0    0    0  ...    0    0    0    0   \n",
       "\n",
       "   779  780  781  782  783  784  \n",
       "0    0    0    0    0    0    0  \n",
       "1    0    0    0    0    0    0  \n",
       "2    0    0    0    0    0    0  \n",
       "3    0    0    0    0    0    0  \n",
       "4    0    0    0    0    0    0  \n",
       "\n",
       "[5 rows x 785 columns]"
      ]
     },
     "execution_count": 45,
     "metadata": {},
     "output_type": "execute_result"
    }
   ],
   "source": [
    "mnist_test.head()"
   ]
  },
  {
   "cell_type": "code",
   "execution_count": 46,
   "id": "f7b74a0b",
   "metadata": {},
   "outputs": [],
   "source": [
    "X_mnist_train = mnist_train.loc[:, mnist_train.columns != 0].to_numpy()\n",
    "Y_mnist_train = mnist_train.loc[:, mnist_train.columns == 0].to_numpy()\n",
    "X_mnist_test = mnist_test.loc[:, mnist_test.columns != 0].to_numpy()\n",
    "Y_mnist_test = mnist_test.loc[:, mnist_test.columns == 0].to_numpy()\n"
   ]
  },
  {
   "cell_type": "code",
   "execution_count": 48,
   "id": "2b13550c",
   "metadata": {},
   "outputs": [
    {
     "name": "stderr",
     "output_type": "stream",
     "text": [
      "<ipython-input-15-a0f583fe7233>:6: DeprecationWarning: setting an array element with a sequence. This was supported in some cases where the elements are arrays with a single element. For example `np.array([1, np.array([2])], dtype=int)`. In the future this will raise the same ValueError as `np.array([1, [2]], dtype=int)`.\n",
      "  neighbors[i] = [Y_train[idx[ki]] for ki in range (0, k)]\n"
     ]
    },
    {
     "name": "stdout",
     "output_type": "stream",
     "text": [
      "Value for training size:  500\n",
      "              precision    recall  f1-score   support\n",
      "\n",
      "           0       0.84      0.96      0.90        85\n",
      "           1       0.66      1.00      0.79       126\n",
      "           2       0.88      0.61      0.72       116\n",
      "           3       0.74      0.83      0.78       107\n",
      "           4       0.79      0.86      0.82       110\n",
      "           5       0.76      0.59      0.66        87\n",
      "           6       0.88      0.75      0.81        87\n",
      "           7       0.81      0.78      0.79        99\n",
      "           8       0.86      0.48      0.62        89\n",
      "           9       0.73      0.80      0.76        94\n",
      "\n",
      "    accuracy                           0.77      1000\n",
      "   macro avg       0.79      0.77      0.77      1000\n",
      "weighted avg       0.79      0.77      0.77      1000\n",
      "\n",
      "[[ 82   0   1   0   0   0   2   0   0   0]\n",
      " [  0 126   0   0   0   0   0   0   0   0]\n",
      " [  4  27  71   1   1   1   1   5   5   0]\n",
      " [  1   9   1  89   0   3   0   1   1   2]\n",
      " [  0   2   0   0  95   0   1   1   0  11]\n",
      " [  1   7   0  18   3  51   2   3   0   2]\n",
      " [  6   3   0   0   9   3  65   1   0   0]\n",
      " [  0  10   2   0   3   0   0  77   0   7]\n",
      " [  4   6   6  11   0   9   3   1  43   6]\n",
      " [  0   1   0   1  10   0   0   6   1  75]]\n"
     ]
    },
    {
     "name": "stderr",
     "output_type": "stream",
     "text": [
      "<ipython-input-15-a0f583fe7233>:6: DeprecationWarning: setting an array element with a sequence. This was supported in some cases where the elements are arrays with a single element. For example `np.array([1, np.array([2])], dtype=int)`. In the future this will raise the same ValueError as `np.array([1, [2]], dtype=int)`.\n",
      "  neighbors[i] = [Y_train[idx[ki]] for ki in range (0, k)]\n"
     ]
    },
    {
     "name": "stdout",
     "output_type": "stream",
     "text": [
      "Value for training size:  1000\n",
      "              precision    recall  f1-score   support\n",
      "\n",
      "           0       0.82      0.98      0.89        85\n",
      "           1       0.82      1.00      0.90       126\n",
      "           2       0.87      0.77      0.82       116\n",
      "           3       0.79      0.79      0.79       107\n",
      "           4       0.79      0.84      0.81       110\n",
      "           5       0.76      0.70      0.73        87\n",
      "           6       0.87      0.87      0.87        87\n",
      "           7       0.80      0.87      0.83        99\n",
      "           8       0.92      0.55      0.69        89\n",
      "           9       0.78      0.74      0.76        94\n",
      "\n",
      "    accuracy                           0.82      1000\n",
      "   macro avg       0.82      0.81      0.81      1000\n",
      "weighted avg       0.82      0.82      0.81      1000\n",
      "\n",
      "[[ 83   0   0   0   1   0   1   0   0   0]\n",
      " [  0 126   0   0   0   0   0   0   0   0]\n",
      " [  4  10  89   1   1   1   2   7   1   0]\n",
      " [  1   2   4  85   0   8   1   1   3   2]\n",
      " [  0   2   0   0  92   0   2   0   0  14]\n",
      " [  1   5   0  12   4  61   2   1   0   1]\n",
      " [  6   0   0   0   1   4  76   0   0   0]\n",
      " [  0   6   1   0   4   1   0  86   0   1]\n",
      " [  6   3   8   9   2   5   3   2  49   2]\n",
      " [  0   0   0   1  12   0   0  11   0  70]]\n"
     ]
    },
    {
     "name": "stderr",
     "output_type": "stream",
     "text": [
      "<ipython-input-15-a0f583fe7233>:6: DeprecationWarning: setting an array element with a sequence. This was supported in some cases where the elements are arrays with a single element. For example `np.array([1, np.array([2])], dtype=int)`. In the future this will raise the same ValueError as `np.array([1, [2]], dtype=int)`.\n",
      "  neighbors[i] = [Y_train[idx[ki]] for ki in range (0, k)]\n"
     ]
    },
    {
     "name": "stdout",
     "output_type": "stream",
     "text": [
      "Value for training size:  2500\n",
      "              precision    recall  f1-score   support\n",
      "\n",
      "           0       0.88      1.00      0.93        85\n",
      "           1       0.85      1.00      0.92       126\n",
      "           2       0.92      0.84      0.88       116\n",
      "           3       0.85      0.86      0.86       107\n",
      "           4       0.81      0.91      0.86       110\n",
      "           5       0.86      0.82      0.84        87\n",
      "           6       0.93      0.92      0.92        87\n",
      "           7       0.83      0.90      0.86        99\n",
      "           8       0.92      0.66      0.77        89\n",
      "           9       0.90      0.74      0.81        94\n",
      "\n",
      "    accuracy                           0.87      1000\n",
      "   macro avg       0.88      0.87      0.87      1000\n",
      "weighted avg       0.87      0.87      0.87      1000\n",
      "\n",
      "[[ 85   0   0   0   0   0   0   0   0   0]\n",
      " [  0 126   0   0   0   0   0   0   0   0]\n",
      " [  2   7  98   1   3   1   0   3   1   0]\n",
      " [  0   2   2  92   0   4   1   3   2   1]\n",
      " [  0   2   0   0 100   1   0   2   0   5]\n",
      " [  1   3   0   5   4  71   1   0   1   1]\n",
      " [  5   0   0   0   1   1  80   0   0   0]\n",
      " [  0   6   1   0   2   1   0  89   0   0]\n",
      " [  4   2   5   9   0   3   4   2  59   1]\n",
      " [  0   0   0   1  13   1   0   8   1  70]]\n"
     ]
    },
    {
     "name": "stderr",
     "output_type": "stream",
     "text": [
      "<ipython-input-15-a0f583fe7233>:6: DeprecationWarning: setting an array element with a sequence. This was supported in some cases where the elements are arrays with a single element. For example `np.array([1, np.array([2])], dtype=int)`. In the future this will raise the same ValueError as `np.array([1, [2]], dtype=int)`.\n",
      "  neighbors[i] = [Y_train[idx[ki]] for ki in range (0, k)]\n"
     ]
    },
    {
     "name": "stdout",
     "output_type": "stream",
     "text": [
      "Value for training size:  5000\n",
      "              precision    recall  f1-score   support\n",
      "\n",
      "           0       0.89      1.00      0.94        85\n",
      "           1       0.86      1.00      0.93       126\n",
      "           2       0.96      0.84      0.90       116\n",
      "           3       0.87      0.91      0.89       107\n",
      "           4       0.87      0.91      0.89       110\n",
      "           5       0.92      0.90      0.91        87\n",
      "           6       0.95      0.94      0.95        87\n",
      "           7       0.86      0.91      0.88        99\n",
      "           8       0.94      0.71      0.81        89\n",
      "           9       0.88      0.81      0.84        94\n",
      "\n",
      "    accuracy                           0.90      1000\n",
      "   macro avg       0.90      0.89      0.89      1000\n",
      "weighted avg       0.90      0.90      0.89      1000\n",
      "\n",
      "[[ 85   0   0   0   0   0   0   0   0   0]\n",
      " [  0 126   0   0   0   0   0   0   0   0]\n",
      " [  3   7  98   1   1   0   1   4   1   0]\n",
      " [  0   2   0  97   0   1   1   3   2   1]\n",
      " [  0   2   0   0 100   0   1   1   0   6]\n",
      " [  1   1   0   6   0  78   0   1   0   0]\n",
      " [  4   0   0   0   1   0  82   0   0   0]\n",
      " [  0   5   1   0   1   1   0  90   0   1]\n",
      " [  3   2   3   7   1   5   1   2  63   2]\n",
      " [  0   1   0   1  11   0   0   4   1  76]]\n"
     ]
    },
    {
     "name": "stderr",
     "output_type": "stream",
     "text": [
      "<ipython-input-15-a0f583fe7233>:6: DeprecationWarning: setting an array element with a sequence. This was supported in some cases where the elements are arrays with a single element. For example `np.array([1, np.array([2])], dtype=int)`. In the future this will raise the same ValueError as `np.array([1, [2]], dtype=int)`.\n",
      "  neighbors[i] = [Y_train[idx[ki]] for ki in range (0, k)]\n"
     ]
    },
    {
     "name": "stdout",
     "output_type": "stream",
     "text": [
      "Value for training size:  10000\n",
      "              precision    recall  f1-score   support\n",
      "\n",
      "           0       0.90      1.00      0.95        85\n",
      "           1       0.89      1.00      0.94       126\n",
      "           2       0.97      0.89      0.93       116\n",
      "           3       0.86      0.92      0.89       107\n",
      "           4       0.88      0.92      0.90       110\n",
      "           5       0.92      0.87      0.89        87\n",
      "           6       0.97      0.95      0.96        87\n",
      "           7       0.88      0.92      0.90        99\n",
      "           8       0.94      0.75      0.84        89\n",
      "           9       0.91      0.82      0.86        94\n",
      "\n",
      "    accuracy                           0.91      1000\n",
      "   macro avg       0.91      0.90      0.91      1000\n",
      "weighted avg       0.91      0.91      0.91      1000\n",
      "\n",
      "[[ 85   0   0   0   0   0   0   0   0   0]\n",
      " [  0 126   0   0   0   0   0   0   0   0]\n",
      " [  3   3 103   0   1   0   0   5   1   0]\n",
      " [  0   1   1  98   0   1   1   2   1   2]\n",
      " [  0   2   0   0 101   0   1   0   1   5]\n",
      " [  1   1   0   8   0  76   0   1   0   0]\n",
      " [  3   0   0   0   1   0  83   0   0   0]\n",
      " [  0   5   0   0   2   1   0  91   0   0]\n",
      " [  2   3   2   7   1   4   1   1  67   1]\n",
      " [  0   1   0   1   9   1   0   4   1  77]]\n"
     ]
    }
   ],
   "source": [
    "training_size = [500,1000,2500,5000,10000]\n",
    "\n",
    "X_test = X_mnist_test[:1000]\n",
    "y_test = Y_mnist_test[:1000]\n",
    "error_rates = []\n",
    "\n",
    "for i in training_size:\n",
    "    X_train = X_mnist_train[:i]\n",
    "    y_train = Y_mnist_train[:i]\n",
    "    Y_pred = knn_predict(X_test, X_train, y_train, 2)\n",
    "    print(\"Value for training size: \",i)\n",
    "    print(metrics.classification_report(y_test, Y_pred))\n",
    "    print(metrics.confusion_matrix(y_test, Y_pred))\n",
    "    acc = accuracy_score(y_test[:1000, -1], Y_pred)\n",
    "    error_rate = 1 - acc\n",
    "    error_rates.append(error_rate)"
   ]
  },
  {
   "cell_type": "code",
   "execution_count": 49,
   "id": "6f9624ea",
   "metadata": {},
   "outputs": [
    {
     "data": {
      "text/plain": [
       "[0.22599999999999998,\n",
       " 0.18300000000000005,\n",
       " 0.13,\n",
       " 0.10499999999999998,\n",
       " 0.09299999999999997]"
      ]
     },
     "execution_count": 49,
     "metadata": {},
     "output_type": "execute_result"
    }
   ],
   "source": [
    "error_rates"
   ]
  },
  {
   "cell_type": "markdown",
   "id": "718f6101",
   "metadata": {},
   "source": [
    "### Plotting change in classification error with respect to the changing number of training examples"
   ]
  },
  {
   "cell_type": "code",
   "execution_count": 50,
   "id": "2bb12aa4",
   "metadata": {},
   "outputs": [
    {
     "name": "stderr",
     "output_type": "stream",
     "text": [
      "/Users/samruddhi/opt/anaconda3/lib/python3.8/site-packages/seaborn/_decorators.py:36: FutureWarning: Pass the following variables as keyword args: x, y. From version 0.12, the only valid positional argument will be `data`, and passing other arguments without an explicit keyword will result in an error or misinterpretation.\n",
      "  warnings.warn(\n"
     ]
    },
    {
     "data": {
      "image/png": "[encoded data removed]",
      "text/plain": [
       "<Figure size 720x504 with 1 Axes>"
      ]
     },
     "metadata": {},
     "output_type": "display_data"
    }
   ],
   "source": [
    "sns.set_theme(style=\"darkgrid\")\n",
    "plt.figure(figsize=(10,7))\n",
    "ax = sns.lineplot(training_size, error_rates , marker='o')"
   ]
  },
  {
   "cell_type": "markdown",
   "id": "a6897110",
   "metadata": {},
   "source": [
    "## Classification error is the lowest for the traning size 10000, therefore it is considered for the best fit model"
   ]
  }
 ],
 "metadata": {
  "kernelspec": {
   "display_name": "Python 3",
   "language": "python",
   "name": "python3"
  },
  "language_info": {
   "codemirror_mode": {
    "name": "ipython",
    "version": 3
   },
   "file_extension": ".py",
   "mimetype": "text/x-python",
   "name": "python",
   "nbconvert_exporter": "python",
   "pygments_lexer": "ipython3",
   "version": "3.8.8"
  }
 },
 "nbformat": 4,
 "nbformat_minor": 5
}
